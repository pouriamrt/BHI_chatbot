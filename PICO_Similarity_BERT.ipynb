{
 "cells": [
  {
   "cell_type": "code",
   "execution_count": 43,
   "id": "b0595b3c",
   "metadata": {},
   "outputs": [
    {
     "name": "stderr",
     "output_type": "stream",
     "text": [
      "[nltk_data] Downloading package punkt to\n",
      "[nltk_data]     C:\\Users\\pouri\\AppData\\Roaming\\nltk_data...\n",
      "[nltk_data]   Package punkt is already up-to-date!\n",
      "[nltk_data] Downloading package stopwords to\n",
      "[nltk_data]     C:\\Users\\pouri\\AppData\\Roaming\\nltk_data...\n",
      "[nltk_data]   Package stopwords is already up-to-date!\n",
      "[nltk_data] Downloading package wordnet to\n",
      "[nltk_data]     C:\\Users\\pouri\\AppData\\Roaming\\nltk_data...\n",
      "[nltk_data]   Package wordnet is already up-to-date!\n"
     ]
    },
    {
     "data": {
      "text/plain": [
       "True"
      ]
     },
     "execution_count": 43,
     "metadata": {},
     "output_type": "execute_result"
    }
   ],
   "source": [
    "import pandas as pd\n",
    "import numpy as np\n",
    "import nltk\n",
    "from nltk.corpus import stopwords\n",
    "from nltk.tokenize import word_tokenize\n",
    "from nltk.stem import WordNetLemmatizer\n",
    "from nltk.tokenize import sent_tokenize\n",
    "import string\n",
    "\n",
    "nltk.download('punkt')\n",
    "nltk.download('stopwords')\n",
    "nltk.download('wordnet')"
   ]
  },
  {
   "cell_type": "code",
   "execution_count": 139,
   "id": "f41428b4",
   "metadata": {},
   "outputs": [],
   "source": [
    "# Initialize the lemmatizer and stop words\n",
    "lemmatizer = WordNetLemmatizer()\n",
    "stop_words = set(stopwords.words('english'))\n",
    "\n",
    "# Function to clean and preprocess text\n",
    "def preprocess_text(text):\n",
    "    # Convert to lowercase\n",
    "    text = text.lower()\n",
    "    \n",
    "    # Remove punctuation\n",
    "#     text = text.translate(str.maketrans('', '', string.punctuation.replace('.', '').replace('!', '').replace('?', '')))\n",
    "    \n",
    "    # Tokenize the text\n",
    "    tokens = word_tokenize(text)\n",
    "    \n",
    "    # Remove stop words and lemmatize\n",
    "    tokens = [lemmatizer.lemmatize(word) for word in tokens if word not in stop_words]\n",
    "#     tokens = [word for word in tokens if word not in stop_words]\n",
    "    \n",
    "    # Join tokens back to string\n",
    "    return ' '.join(tokens)\n"
   ]
  },
  {
   "cell_type": "code",
   "execution_count": 140,
   "id": "26395da5",
   "metadata": {},
   "outputs": [],
   "source": [
    "def parse_pico_dataset(filepath):\n",
    "    data = []\n",
    "    with open(filepath, 'r') as file:\n",
    "        for line in file:\n",
    "            if '|' in line:\n",
    "                name, label, text = line.strip().split('|', 2)\n",
    "                \n",
    "                if label in ['P', 'I', 'C', 'O']:  # Filter only PICO elements\n",
    "#                     clean_text = text\n",
    "                    clean_text = preprocess_text(text)\n",
    "#                     if label == 'R':\n",
    "#                         label = 'O'\n",
    "                    data.append({'label': label, 'text': clean_text})\n",
    "    return pd.DataFrame(data)\n",
    "\n",
    "# Load the dataset\n",
    "df = parse_pico_dataset('.\\\\PICO\\\\data\\\\splitted\\\\PICO_train_relabelled.txt')"
   ]
  },
  {
   "cell_type": "code",
   "execution_count": 141,
   "id": "dbd27d76",
   "metadata": {},
   "outputs": [
    {
     "data": {
      "text/plain": [
       "'people crc considered inclusion trial @ year old , diagnosed primary crc recovery period postsurgery ( could still receiving adjuvant therapy ) .'"
      ]
     },
     "execution_count": 141,
     "metadata": {},
     "output_type": "execute_result"
    }
   ],
   "source": [
    "df.iloc[0]['text']"
   ]
  },
  {
   "cell_type": "code",
   "execution_count": 142,
   "id": "c79228ed",
   "metadata": {},
   "outputs": [
    {
     "data": {
      "text/html": [
       "<div>\n",
       "<style scoped>\n",
       "    .dataframe tbody tr th:only-of-type {\n",
       "        vertical-align: middle;\n",
       "    }\n",
       "\n",
       "    .dataframe tbody tr th {\n",
       "        vertical-align: top;\n",
       "    }\n",
       "\n",
       "    .dataframe thead th {\n",
       "        text-align: right;\n",
       "    }\n",
       "</style>\n",
       "<table border=\"1\" class=\"dataframe\">\n",
       "  <thead>\n",
       "    <tr style=\"text-align: right;\">\n",
       "      <th></th>\n",
       "      <th>label</th>\n",
       "      <th>text</th>\n",
       "    </tr>\n",
       "  </thead>\n",
       "  <tbody>\n",
       "    <tr>\n",
       "      <th>0</th>\n",
       "      <td>P</td>\n",
       "      <td>people crc considered inclusion trial @ year o...</td>\n",
       "    </tr>\n",
       "    <tr>\n",
       "      <th>1</th>\n",
       "      <td>P</td>\n",
       "      <td>@ % ( n = @ ) eligible crc survivor consented ...</td>\n",
       "    </tr>\n",
       "    <tr>\n",
       "      <th>2</th>\n",
       "      <td>P</td>\n",
       "      <td>@ crc survivor , @ people cardiovascular disea...</td>\n",
       "    </tr>\n",
       "    <tr>\n",
       "      <th>3</th>\n",
       "      <td>I</td>\n",
       "      <td>referral postsurgical crc survivor weekly cr e...</td>\n",
       "    </tr>\n",
       "    <tr>\n",
       "      <th>4</th>\n",
       "      <td>I</td>\n",
       "      <td>class included crc survivor people cvd .</td>\n",
       "    </tr>\n",
       "  </tbody>\n",
       "</table>\n",
       "</div>"
      ],
      "text/plain": [
       "  label                                               text\n",
       "0     P  people crc considered inclusion trial @ year o...\n",
       "1     P  @ % ( n = @ ) eligible crc survivor consented ...\n",
       "2     P  @ crc survivor , @ people cardiovascular disea...\n",
       "3     I  referral postsurgical crc survivor weekly cr e...\n",
       "4     I           class included crc survivor people cvd ."
      ]
     },
     "execution_count": 142,
     "metadata": {},
     "output_type": "execute_result"
    }
   ],
   "source": [
    "df.head()"
   ]
  },
  {
   "cell_type": "code",
   "execution_count": 127,
   "id": "acba1fb0",
   "metadata": {},
   "outputs": [
    {
     "name": "stderr",
     "output_type": "stream",
     "text": [
      "C:\\Users\\pouri\\anaconda3\\envs\\spacy_env\\lib\\site-packages\\transformers\\tokenization_utils_base.py:1601: FutureWarning: `clean_up_tokenization_spaces` was not set. It will be set to `True` by default. This behavior will be depracted in transformers v4.45, and will be then set to `False` by default. For more details check this issue: https://github.com/huggingface/transformers/issues/31884\n",
      "  warnings.warn(\n"
     ]
    }
   ],
   "source": [
    "from transformers import AutoTokenizer, AutoModel\n",
    "import torch\n",
    "from sklearn.metrics.pairwise import cosine_similarity\n",
    "\n",
    "# Load Bio_ClinicalBERT\n",
    "tokenizer = AutoTokenizer.from_pretrained(\"emilyalsentzer/Bio_ClinicalBERT\")\n",
    "model = AutoModel.from_pretrained(\"emilyalsentzer/Bio_ClinicalBERT\")\n"
   ]
  },
  {
   "cell_type": "code",
   "execution_count": 143,
   "id": "9abc0dc3",
   "metadata": {},
   "outputs": [],
   "source": [
    "# Helper function to chunk text\n",
    "def chunk_text(text, max_length=512, overlap=50):\n",
    "    tokens = tokenizer.encode(text, add_special_tokens=False)\n",
    "    chunks = []\n",
    "    for i in range(0, len(tokens), max_length - overlap):\n",
    "        chunk = tokens[i : i + max_length]\n",
    "        chunks.append(tokenizer.decode(chunk, skip_special_tokens=True))\n",
    "    return chunks\n",
    "\n",
    "# Helper function to get embeddings for a single text\n",
    "def get_embedding(text, tokenizer, model):\n",
    "    inputs = tokenizer(text, return_tensors=\"pt\", truncation=True, padding=True, max_length=512)\n",
    "    with torch.no_grad():\n",
    "        outputs = model(**inputs)\n",
    "    # Use the [CLS] token embedding (pooled output for sentence-level embeddings)\n",
    "    cls_embedding = outputs.last_hidden_state[:, 0, :].squeeze(0)\n",
    "    return cls_embedding"
   ]
  },
  {
   "cell_type": "code",
   "execution_count": 144,
   "id": "720b4854",
   "metadata": {},
   "outputs": [],
   "source": [
    "# Description\n",
    "description = \"\"\"\n",
    "Types of studies: We will include individually- and cluster-randomized controlled trials (RCTs). We will include both parallel and cross-over trials, where only data from the first intervention phase, prior to cross-over, will be used.\n",
    "\"\"\"\n",
    "\n",
    "# Chunk the description\n",
    "chunks = chunk_text(description)\n",
    "\n",
    "# Get embeddings for all description chunks\n",
    "chunk_embeddings = [get_embedding(chunk, tokenizer, model) for chunk in chunks]\n",
    "\n",
    "# Texts to compare\n",
    "texts = df[df['label']=='P']['text'].values[:10]"
   ]
  },
  {
   "cell_type": "code",
   "execution_count": 145,
   "id": "0ecbf857",
   "metadata": {},
   "outputs": [],
   "source": [
    "# Compare each text against all description chunks\n",
    "results = {}\n",
    "for text in texts:\n",
    "    text_embedding = get_embedding(text, tokenizer, model)\n",
    "    scores = []\n",
    "    for chunk_embedding in chunk_embeddings:\n",
    "        similarity = cosine_similarity(\n",
    "            text_embedding.unsqueeze(0), chunk_embedding.unsqueeze(0)\n",
    "        ).item()\n",
    "        scores.append(similarity)\n",
    "    results[text] = scores"
   ]
  },
  {
   "cell_type": "code",
   "execution_count": 146,
   "id": "39303756",
   "metadata": {},
   "outputs": [
    {
     "name": "stdout",
     "output_type": "stream",
     "text": [
      "Text: people crc considered inclusion trial @ year old , diagnosed primary crc recovery period postsurgery ( could still receiving adjuvant therapy ) .\n",
      "  Chunk 1 Similarity Score: 0.76\n",
      "Overall Match: Yes (matches at least one chunk)\n",
      "--------------------------------------------------\n",
      "Text: @ % ( n = @ ) eligible crc survivor consented participate trial .\n",
      "  Chunk 1 Similarity Score: 0.82\n",
      "Overall Match: Yes (matches at least one chunk)\n",
      "--------------------------------------------------\n",
      "Text: @ crc survivor , @ people cardiovascular disease ( cvd ) , @ crc nurse @ cr clinician participated qualitative study .\n",
      "  Chunk 1 Similarity Score: 0.81\n",
      "Overall Match: Yes (matches at least one chunk)\n",
      "--------------------------------------------------\n",
      "Text: seventy-four subject ( mean age = @ year , sd = @ , range = @ ) spinal cord injury resulting motor loss ( @ tetraplegia @ paraplegia ) studied .\n",
      "  Chunk 1 Similarity Score: 0.81\n",
      "Overall Match: Yes (matches at least one chunk)\n",
      "--------------------------------------------------\n",
      "Text: sample consisted @ sbhc provider review medical chart three time point .\n",
      "  Chunk 1 Similarity Score: 0.85\n",
      "Overall Match: Yes (matches at least one chunk)\n",
      "--------------------------------------------------\n",
      "Text: chart data collected baseline ( n = @ ) , training ( n = @ ) @ month training ( n = @ ) .\n",
      "  Chunk 1 Similarity Score: 0.83\n",
      "Overall Match: Yes (matches at least one chunk)\n",
      "--------------------------------------------------\n",
      "Text: competent , english-speaking adult aged @ older chronic congestive heart failure chronic renal disease surrogate decision-makers .\n",
      "  Chunk 1 Similarity Score: 0.82\n",
      "Overall Match: Yes (matches at least one chunk)\n",
      "--------------------------------------------------\n",
      "Text: @ woman early miscarriage ( < @ week ) confirmed scan .\n",
      "  Chunk 1 Similarity Score: 0.81\n",
      "Overall Match: Yes (matches at least one chunk)\n",
      "--------------------------------------------------\n",
      "Text: community sample @ participant chronic panic symptom varying severity ( immediate treatment : n = @ , waiting-list control : n = @ ) .\n",
      "  Chunk 1 Similarity Score: 0.77\n",
      "Overall Match: Yes (matches at least one chunk)\n",
      "--------------------------------------------------\n",
      "Text: thirty child ( @ male , @ female ) , aged @ + / - @ year ( range @ year ) .\n",
      "  Chunk 1 Similarity Score: 0.74\n",
      "Overall Match: Yes (matches at least one chunk)\n",
      "--------------------------------------------------\n"
     ]
    }
   ],
   "source": [
    "# Display Results\n",
    "threshold = 0.7  # Adjust threshold for sensitivity\n",
    "for text, scores in results.items():\n",
    "    print(f\"Text: {text}\")\n",
    "    for i, score in enumerate(scores):\n",
    "        print(f\"  Chunk {i + 1} Similarity Score: {score:.2f}\")\n",
    "    if any(score >= threshold for score in scores):\n",
    "        print(\"Overall Match: Yes (matches at least one chunk)\")\n",
    "    else:\n",
    "        print(\"Overall Match: No (no matches found)\")\n",
    "    print(\"-\" * 50)"
   ]
  },
  {
   "cell_type": "code",
   "execution_count": null,
   "id": "6942ca15",
   "metadata": {},
   "outputs": [],
   "source": []
  }
 ],
 "metadata": {
  "kernelspec": {
   "display_name": "spacy_env",
   "language": "python",
   "name": "spacy_env"
  },
  "language_info": {
   "codemirror_mode": {
    "name": "ipython",
    "version": 3
   },
   "file_extension": ".py",
   "mimetype": "text/x-python",
   "name": "python",
   "nbconvert_exporter": "python",
   "pygments_lexer": "ipython3",
   "version": "3.9.19"
  }
 },
 "nbformat": 4,
 "nbformat_minor": 5
}
