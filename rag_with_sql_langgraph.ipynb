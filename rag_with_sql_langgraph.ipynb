{
 "cells": [
  {
   "cell_type": "code",
   "execution_count": 1,
   "id": "375e5369",
   "metadata": {},
   "outputs": [],
   "source": [
    "import warnings\n",
    "warnings.filterwarnings(\"ignore\")"
   ]
  },
  {
   "cell_type": "code",
   "execution_count": 2,
   "id": "c02079ce",
   "metadata": {},
   "outputs": [],
   "source": [
    "from langchain.globals import set_verbose, set_debug\n",
    "\n",
    "set_debug(False)\n",
    "set_verbose(False)"
   ]
  },
  {
   "cell_type": "code",
   "execution_count": 3,
   "id": "76c0cfd8",
   "metadata": {},
   "outputs": [],
   "source": [
    "from langchain.chains import create_history_aware_retriever, create_retrieval_chain\n",
    "from langchain.chains.combine_documents import create_stuff_documents_chain\n",
    "from langchain.vectorstores import Chroma\n",
    "from langchain_community.chat_message_histories import ChatMessageHistory\n",
    "from langchain_core.chat_history import BaseChatMessageHistory\n",
    "from langchain_core.prompts import ChatPromptTemplate, MessagesPlaceholder\n",
    "from langchain_core.runnables.history import RunnableWithMessageHistory\n",
    "from langchain_openai import ChatOpenAI, OpenAIEmbeddings\n",
    "from langchain.chains.query_constructor.base import AttributeInfo\n",
    "from langchain.retrievers.self_query.base import SelfQueryRetriever\n",
    "from langchain_openai import ChatOpenAI\n",
    "from langchain.prompts import PromptTemplate\n",
    "from langchain.retrievers.document_compressors import LLMChainFilter\n",
    "from langchain.retrievers import ContextualCompressionRetriever\n",
    "from langchain_core.messages import AIMessage, HumanMessage"
   ]
  },
  {
   "cell_type": "code",
   "execution_count": 4,
   "id": "8089858e",
   "metadata": {},
   "outputs": [],
   "source": [
    "llm = ChatOpenAI(model=\"gpt-3.5-turbo\", temperature=0)"
   ]
  },
  {
   "cell_type": "markdown",
   "id": "cb045aee",
   "metadata": {},
   "source": [
    "# RAG"
   ]
  },
  {
   "cell_type": "code",
   "execution_count": 5,
   "id": "c88552f8",
   "metadata": {},
   "outputs": [],
   "source": [
    "persist_directory = 'all_docs_zotero/chroma/'\n",
    "embedding = OpenAIEmbeddings()\n",
    "\n",
    "vectordb = Chroma(persist_directory=persist_directory, embedding_function=embedding)"
   ]
  },
  {
   "cell_type": "code",
   "execution_count": 6,
   "id": "5ad0d041",
   "metadata": {},
   "outputs": [],
   "source": [
    "metadata_field_info = [\n",
    "    AttributeInfo(\n",
    "        name=\"Publication Year\",\n",
    "        description=\"The year that the paper was published.\",\n",
    "        type=\"integer\",\n",
    "    ),\n",
    "    AttributeInfo(\n",
    "        name=\"Date Added\",\n",
    "        description=\"The year that the paper was added to the collection.\",\n",
    "        type=\"integer\",\n",
    "    ),\n",
    "    AttributeInfo(\n",
    "        name=\"Author\",\n",
    "        description=\"Authors of the paper, it could be couple of people.\",\n",
    "        type=\"string\",\n",
    "    ),\n",
    "    AttributeInfo(\n",
    "        name=\"Title\", \n",
    "        description=\"Title of the paper that the paper is about.\", \n",
    "        type=\"string\",\n",
    "    ),\n",
    "]\n",
    "\n",
    "document_content_description = \"Brain Heart Interconnectome (BHI) research papers\"\n",
    "\n",
    "retriever = SelfQueryRetriever.from_llm(\n",
    "    llm,\n",
    "    vectordb,\n",
    "    document_content_description,\n",
    "    metadata_field_info,\n",
    "    #search_kwargs={\"k\": 10}\n",
    "    #enable_limit=True,\n",
    ")\n",
    "\n",
    "_filter = LLMChainFilter.from_llm(llm)\n",
    "compression_retriever = ContextualCompressionRetriever(\n",
    "    base_compressor=_filter,\n",
    "    base_retriever=retriever\n",
    ")"
   ]
  },
  {
   "cell_type": "code",
   "execution_count": 7,
   "id": "6b093d47",
   "metadata": {},
   "outputs": [],
   "source": [
    "### Contextualize question ###\n",
    "contextualize_q_system_prompt = \"\"\"Given a chat history and the latest user question \\\n",
    "which might reference context in the chat history, formulate a standalone question \\\n",
    "which can be understood without the chat history. Do NOT answer the question, \\\n",
    "just reformulate it if needed and otherwise return it as is.\"\"\"\n",
    "\n",
    "contextualize_q_prompt = ChatPromptTemplate.from_messages(\n",
    "    [\n",
    "        (\"system\", contextualize_q_system_prompt),\n",
    "        MessagesPlaceholder(\"chat_history\"),\n",
    "        (\"human\", \"{input}\"),\n",
    "    ]\n",
    ")\n",
    "history_aware_retriever = create_history_aware_retriever(\n",
    "    llm, compression_retriever, contextualize_q_prompt\n",
    ")\n",
    "\n",
    "### Answer question ###\n",
    "qa_system_prompt = \"\"\"You are an assistant for question-answering tasks. \\\n",
    "Use the following pieces of retrieved context to answer the question. \\\n",
    "If you don't know the answer, just say that you don't know.\n",
    "\n",
    "{context}\"\"\"\n",
    "\n",
    "qa_prompt = ChatPromptTemplate.from_messages(\n",
    "    [\n",
    "        (\"system\", qa_system_prompt),\n",
    "        MessagesPlaceholder(\"chat_history\"),\n",
    "        (\"human\", \"{input}\"),\n",
    "    ]\n",
    ")\n",
    "question_answer_chain = create_stuff_documents_chain(llm, qa_prompt)\n",
    "\n",
    "rag_chain = create_retrieval_chain(history_aware_retriever, question_answer_chain)\n",
    "\n",
    "### Statefully manage chat history ###\n",
    "store = {}\n",
    "\n",
    "\n",
    "def get_session_history(session_id: str) -> BaseChatMessageHistory:\n",
    "    if session_id not in store:\n",
    "        store[session_id] = ChatMessageHistory()\n",
    "    return store[session_id]\n",
    "\n",
    "\n",
    "conversational_rag_chain = RunnableWithMessageHistory(\n",
    "    rag_chain,\n",
    "    get_session_history,\n",
    "    input_messages_key=\"input\",\n",
    "    history_messages_key=\"chat_history\",\n",
    "    output_messages_key=\"answer\",\n",
    ")"
   ]
  },
  {
   "cell_type": "code",
   "execution_count": null,
   "id": "eaf8ff6f",
   "metadata": {},
   "outputs": [],
   "source": []
  },
  {
   "cell_type": "markdown",
   "id": "cd1919eb",
   "metadata": {},
   "source": [
    "# SQL"
   ]
  },
  {
   "cell_type": "code",
   "execution_count": 82,
   "id": "7c2295da",
   "metadata": {},
   "outputs": [],
   "source": [
    "from langchain_community.utilities import SQLDatabase\n",
    "\n",
    "db = SQLDatabase.from_uri(\"sqlite:///C:/Users/pouri/Python/Lang_Chain/Projects/BHI_project/all_docs_zotero/chroma/chroma_new.sqlite3\", include_tables=['embedding_metadata'])\n"
   ]
  },
  {
   "cell_type": "code",
   "execution_count": 83,
   "id": "c99a1f4d",
   "metadata": {},
   "outputs": [],
   "source": [
    "from langchain.chains import create_sql_query_chain\n",
    "from langchain_openai import ChatOpenAI\n",
    "\n",
    "llm = ChatOpenAI(model=\"gpt-3.5-turbo\", temperature=0)\n",
    "chain = create_sql_query_chain(llm, db)"
   ]
  },
  {
   "cell_type": "code",
   "execution_count": 113,
   "id": "75c0d663",
   "metadata": {},
   "outputs": [
    {
     "data": {
      "text/plain": [
       "('SELECT COUNT(DISTINCT string_value) AS unique_titles\\nFROM embedding_metadata\\nWHERE \"key\" = \\'source\\' AND string_value IS NOT NULL\\nAND id IN (SELECT id FROM embedding_metadata WHERE \"key\" = \\'Publication Year\\' AND int_value = 2021)',\n",
       " '[(55,)]')"
      ]
     },
     "execution_count": 113,
     "metadata": {},
     "output_type": "execute_result"
    }
   ],
   "source": [
    "query = chain.invoke({\"question\": \"How many unique titles are there that published in 2021?\"})\n",
    "query, db.run(query)"
   ]
  },
  {
   "cell_type": "code",
   "execution_count": null,
   "id": "238d0a26",
   "metadata": {},
   "outputs": [],
   "source": []
  },
  {
   "cell_type": "markdown",
   "id": "e02f50b1",
   "metadata": {},
   "source": [
    "# Integration"
   ]
  },
  {
   "cell_type": "code",
   "execution_count": 47,
   "id": "8c50d664",
   "metadata": {},
   "outputs": [],
   "source": [
    "from langchain_core.tools import tool\n",
    "from langgraph.prebuilt import ToolInvocation\n",
    "from langgraph.prebuilt import ToolExecutor\n",
    "from langchain_core.prompts import PromptTemplate\n",
    "from langchain_community.tools.sql_database.tool import QuerySQLDataBaseTool\n",
    "from langchain_core.output_parsers import StrOutputParser\n",
    "from langchain_community.utilities import SQLDatabase\n",
    "from langchain.chains import create_sql_query_chain\n",
    "from langchain_core.runnables import RunnablePassthrough\n",
    "from operator import itemgetter\n",
    "\n",
    "\n",
    "@tool(\"rag\")\n",
    "def rag_tool(query: str, session_id: str):\n",
    "    \"\"\"Returns the answer to the question with searching for information from the vectorstore.\"\"\"\n",
    "    \n",
    "    out = conversational_rag_chain.invoke({\"input\": query}, \n",
    "                                          config={\n",
    "                                              \"configurable\": {\"session_id\": session_id}\n",
    "                                          },\n",
    "    )\n",
    "    \n",
    "    return out\n",
    "\n",
    "\n",
    "@tool(\"sql\")\n",
    "def sql_tool(query: str, session_id: str):\n",
    "    \"\"\"Returns the answer to the questions which is transformable to a sql query.\"\"\"\n",
    "    \n",
    "    db = SQLDatabase.from_uri(\"sqlite:///C:/Users/pouri/Python/Lang_Chain/Projects/BHI_project/all_docs_zotero/chroma/chroma_new.sqlite3\", include_tables=['embedding_metadata'])\n",
    "    \n",
    "    execute_query = QuerySQLDataBaseTool(db=db)\n",
    "    write_query = create_sql_query_chain(llm, db)\n",
    "    \n",
    "    query = \" \".join(query.split(\"session_id\")[:-1])[:-4]\n",
    "    \n",
    "    answer_prompt = PromptTemplate.from_template(\n",
    "    \"\"\"Given the following user question, corresponding SQL query, \n",
    "    and SQL result, answer the user question.\n",
    "\n",
    "    Question: {question}\n",
    "    SQL Query: {query}\n",
    "    SQL Result: {result}\n",
    "    Answer: \"\"\"\n",
    "    )\n",
    "    \n",
    "    answer = answer_prompt | llm | StrOutputParser()\n",
    "    \n",
    "    chain = (\n",
    "        RunnablePassthrough.assign(query=write_query).assign(\n",
    "            result=itemgetter(\"query\") | execute_query\n",
    "        )\n",
    "        | answer\n",
    "    )\n",
    "    \n",
    "    output = chain.invoke({\"question\": query})\n",
    "    \n",
    "    return output\n",
    "\n",
    "\n",
    "tools = [rag_tool, sql_tool]"
   ]
  },
  {
   "cell_type": "code",
   "execution_count": 48,
   "id": "71420163",
   "metadata": {},
   "outputs": [],
   "source": [
    "from langchain.agents import create_openai_tools_agent\n",
    "from langchain import hub\n",
    "from langchain_core.prompts.chat import ChatMessagePromptTemplate\n",
    "\n",
    "prompt = hub.pull(\"hwchase17/openai-functions-agent\")\n",
    "\n",
    "query_agent_runnable = create_openai_tools_agent(\n",
    "    llm=llm,\n",
    "    tools=tools,\n",
    "    prompt=prompt\n",
    ")"
   ]
  },
  {
   "cell_type": "code",
   "execution_count": 31,
   "id": "e764c795",
   "metadata": {},
   "outputs": [
    {
     "data": {
      "text/plain": [
       "[ToolAgentAction(tool='rag', tool_input={'query': 'consort', 'session_id': 'abc123'}, log=\"\\nInvoking: `rag` with `{'query': 'consort', 'session_id': 'abc123'}`\\n\\n\\n\", message_log=[AIMessage(content='', additional_kwargs={'tool_calls': [{'id': 'call_2fz29TQxcazBduH1GJd1ardi', 'function': {'arguments': '{\"query\":\"consort\",\"session_id\":\"abc123\"}', 'name': 'rag'}, 'type': 'function'}]}, response_metadata={'token_usage': {'completion_tokens': 21, 'prompt_tokens': 134, 'total_tokens': 155}, 'model_name': 'gpt-3.5-turbo', 'system_fingerprint': None, 'finish_reason': 'tool_calls', 'logprobs': None}, id='run-d354d871-e653-44f5-85d0-794dbc80f379-0', tool_calls=[{'name': 'rag', 'args': {'query': 'consort', 'session_id': 'abc123'}, 'id': 'call_2fz29TQxcazBduH1GJd1ardi'}])], tool_call_id='call_2fz29TQxcazBduH1GJd1ardi')]"
      ]
     },
     "execution_count": 31,
     "metadata": {},
     "output_type": "execute_result"
    }
   ],
   "source": [
    "inputs = {\n",
    "    \"input\": \"What can you tell me about consort? `session_id` is abc123\",\n",
    "    \"intermediate_steps\": []\n",
    "}\n",
    "agent_out = query_agent_runnable.invoke(inputs)\n",
    "agent_out"
   ]
  },
  {
   "cell_type": "code",
   "execution_count": 32,
   "id": "43ea0c52",
   "metadata": {},
   "outputs": [
    {
     "data": {
      "text/plain": [
       "{'id': 'call_2fz29TQxcazBduH1GJd1ardi',\n",
       " 'function': {'arguments': '{\"query\":\"consort\",\"session_id\":\"abc123\"}',\n",
       "  'name': 'rag'},\n",
       " 'type': 'function'}"
      ]
     },
     "execution_count": 32,
     "metadata": {},
     "output_type": "execute_result"
    }
   ],
   "source": [
    "agent_out[-1].message_log[-1].additional_kwargs[\"tool_calls\"][-1]"
   ]
  },
  {
   "cell_type": "code",
   "execution_count": 12,
   "id": "4816886a",
   "metadata": {},
   "outputs": [
    {
     "data": {
      "text/plain": [
       "[ToolAgentAction(tool='sql', tool_input={'query': 'SELECT COUNT(DISTINCT title) AS unique_titles FROM publications WHERE year = 2021', 'session_id': 'abc123'}, log=\"\\nInvoking: `sql` with `{'query': 'SELECT COUNT(DISTINCT title) AS unique_titles FROM publications WHERE year = 2021', 'session_id': 'abc123'}`\\n\\n\\n\", message_log=[AIMessage(content='', additional_kwargs={'tool_calls': [{'id': 'call_etYxrKu2kKNjFBlFacB9VIXk', 'function': {'arguments': '{\"query\":\"SELECT COUNT(DISTINCT title) AS unique_titles FROM publications WHERE year = 2021\",\"session_id\":\"abc123\"}', 'name': 'sql'}, 'type': 'function'}]}, response_metadata={'token_usage': {'completion_tokens': 36, 'prompt_tokens': 139, 'total_tokens': 175}, 'model_name': 'gpt-3.5-turbo', 'system_fingerprint': None, 'finish_reason': 'tool_calls', 'logprobs': None}, id='run-ca893861-8445-41f9-84af-bb157618d0b0-0', tool_calls=[{'name': 'sql', 'args': {'query': 'SELECT COUNT(DISTINCT title) AS unique_titles FROM publications WHERE year = 2021', 'session_id': 'abc123'}, 'id': 'call_etYxrKu2kKNjFBlFacB9VIXk'}])], tool_call_id='call_etYxrKu2kKNjFBlFacB9VIXk')]"
      ]
     },
     "execution_count": 12,
     "metadata": {},
     "output_type": "execute_result"
    }
   ],
   "source": [
    "inputs = {\n",
    "    \"input\": \"How many unique titles are there that published in 2021? `session_id` is abc123\",\n",
    "    \"intermediate_steps\": []\n",
    "}\n",
    "agent_out = query_agent_runnable.invoke(inputs)\n",
    "agent_out"
   ]
  },
  {
   "cell_type": "code",
   "execution_count": null,
   "id": "929f3a9f",
   "metadata": {},
   "outputs": [],
   "source": []
  },
  {
   "cell_type": "code",
   "execution_count": 49,
   "id": "2ff1a8a5",
   "metadata": {},
   "outputs": [],
   "source": [
    "import json\n",
    "\n",
    "def run_query_agent(state: list):\n",
    "    print(\"> run_query_agent\")\n",
    "    agent_out = query_agent_runnable.invoke(state)\n",
    "    return {\"agent_out\": agent_out}\n",
    "\n",
    "def execute_search(state: list):\n",
    "    print(\"> execute_search\")\n",
    "    action = state[\"agent_out\"]\n",
    "    tool_call = action[-1].message_log[-1].additional_kwargs[\"tool_calls\"][-1]\n",
    "    \n",
    "    out = rag_tool.invoke(\n",
    "        json.loads(tool_call[\"function\"][\"arguments\"]), \n",
    "    )\n",
    "    \n",
    "    #return {\"intermediate_steps\": [{\"search\": str(out)}]}\n",
    "    return {\"agent_out\": out}\n",
    "\n",
    "def router(state: list):\n",
    "    print(\"> router\")\n",
    "    if isinstance(state[\"agent_out\"], list):\n",
    "        return state[\"agent_out\"][-1].tool\n",
    "    else:\n",
    "        return \"error\"\n",
    "    \n",
    "def execute_sql(state: list):\n",
    "    print(\"> execute_sql\")\n",
    "    action = state[\"agent_out\"]\n",
    "    tool_call = action[-1].message_log[-1].additional_kwargs[\"tool_calls\"][-1]\n",
    "    d = json.loads(tool_call[\"function\"][\"arguments\"])\n",
    "    d['query'] = state[\"input\"]\n",
    "    \n",
    "    out = sql_tool.invoke(\n",
    "        d, \n",
    "    )\n",
    "    \n",
    "    return {\"agent_out\": out}\n",
    "    \n",
    "\n",
    "# we use the same forced final_answer LLM call to handle incorrectly formatted\n",
    "# output from our query_agent\n",
    "def handle_error(state: list):\n",
    "    print(\"> handle_error\")\n",
    "    query = state[\"input\"]\n",
    "    prompt = f\"\"\"You are a helpful assistant, answer the user's question. \n",
    "    Ignore anything about the session id if there was any in the query.\n",
    "\n",
    "    QUESTION: {query}\n",
    "    \"\"\"\n",
    "    out = llm.invoke(prompt)\n",
    "    return {\"agent_out\": out.content}"
   ]
  },
  {
   "cell_type": "code",
   "execution_count": null,
   "id": "0b2cdf70",
   "metadata": {},
   "outputs": [],
   "source": []
  },
  {
   "cell_type": "code",
   "execution_count": 50,
   "id": "984cf24c",
   "metadata": {},
   "outputs": [],
   "source": [
    "from typing import TypedDict, Annotated, List, Union\n",
    "from langchain_core.agents import AgentAction, AgentFinish\n",
    "import operator\n",
    "from langchain_core.messages.base import BaseMessage\n",
    "\n",
    "class AgentState(TypedDict):\n",
    "    input: str\n",
    "    agent_out: Union[AgentAction, AgentFinish, None]\n",
    "    intermediate_steps: Annotated[list[tuple[AgentAction, str]], operator.add]"
   ]
  },
  {
   "cell_type": "code",
   "execution_count": 51,
   "id": "04caa99a",
   "metadata": {},
   "outputs": [],
   "source": [
    "from langgraph.graph import StateGraph, END\n",
    "from langgraph.checkpoint.sqlite import SqliteSaver\n",
    "\n",
    "graph = StateGraph(AgentState)\n",
    "\n",
    "graph.add_node(\"query_agent\", run_query_agent)\n",
    "graph.add_node(\"rag\", execute_search)\n",
    "graph.add_node(\"sql\", execute_sql)\n",
    "graph.add_node(\"error\", handle_error)\n",
    "\n",
    "graph.set_entry_point(\"query_agent\")\n",
    "\n",
    "# conditional edges are controlled by our router\n",
    "graph.add_conditional_edges(\n",
    "    \"query_agent\",  # where in graph to start\n",
    "    router,  # function to determine which node is called\n",
    "    {\n",
    "        \"rag\": \"rag\",\n",
    "        \"sql\": \"sql\",\n",
    "        \"error\": \"error\",\n",
    "    }\n",
    ")\n",
    "\n",
    "graph.add_edge(\"rag\", END)\n",
    "graph.add_edge(\"sql\", END)\n",
    "graph.add_edge(\"error\", END)\n",
    "\n",
    "\n",
    "# memory = SqliteSaver.from_conn_string(\":memory:\")\n",
    "\n",
    "# runnable = graph.compile(checkpointer=memory)\n",
    "runnable = graph.compile()"
   ]
  },
  {
   "cell_type": "code",
   "execution_count": 52,
   "id": "88798697",
   "metadata": {
    "scrolled": true
   },
   "outputs": [
    {
     "data": {
      "image/png": "[encoded data removed]",
      "text/plain": [
       "<IPython.core.display.Image object>"
      ]
     },
     "execution_count": 52,
     "metadata": {},
     "output_type": "execute_result"
    }
   ],
   "source": [
    "from IPython.display import Image\n",
    "\n",
    "Image(runnable.get_graph().draw_png())"
   ]
  },
  {
   "cell_type": "code",
   "execution_count": 17,
   "id": "7aba2d9a",
   "metadata": {},
   "outputs": [
    {
     "name": "stdout",
     "output_type": "stream",
     "text": [
      "> run_query_agent\n",
      "> router\n",
      "> execute_search\n"
     ]
    }
   ],
   "source": [
    "out = runnable.invoke({\"input\": \"what can you tell me about the relation between consort and rct? `session_id` is abc123\"})"
   ]
  },
  {
   "cell_type": "code",
   "execution_count": 18,
   "id": "73485d54",
   "metadata": {
    "scrolled": true
   },
   "outputs": [
    {
     "data": {
      "text/plain": [
       "{'input': 'relation between consort and rct',\n",
       " 'chat_history': [],\n",
       " 'context': [Document(page_content='X.-T. Liu et al. CONSORT of RCT in TCM\\nendorsement of the CONSORT statement. To strengthen our\\nﬁndings, we recommend that this evaluation be expanded to\\ninclude more adopter journals in the ﬁeld of TCM. To fa-\\ncilitate such a study, we encourage all journals to indicate,\\nperhaps in their instructions for authors, whether they support\\nthe CONSORT statement and the level of support. Moreover,\\nthe sample sizes of two groups of our study were small, such\\nthat they may have not enough power to detect the impact\\nof adherence to the CONSORT checklist to promote quality\\nof reporting. In addition, the RCTs assessed were published\\nseveral years ago and may no longer reﬂect current report-\\ning practices; the reports of RCTs were extracted from two\\njournals and therefore cannot necessarily be generalized to\\nfuture studies in the two journals or to a contemporary set of\\npapers in other TCM journals. On the other hand, reports of\\nRCTs published in 2010 to 2011 were chosen for assessing\\nthe inﬂuence of CONSORT statement on quality of reporting,\\nonly 12 months after the endorsement of CONSORT by the\\njournal (JCIM). It is possible, even likely, that effective dis-\\nsemination is a slow process and that to estimate the true im-\\npact of CONSORT requires more time; many RCTs reported\\nbefore January 2009 may have commenced enrollment be-\\nfore the CONSORT statement was endorsed by JCIM, which,\\nin turn, may affect reporting within CONSORT checklist. It', metadata={'Author': 'Liu, X. T.; Zhang, X.; Wen, S.; Peng, L.; Hong, Q.; Kang, D.', 'Date Added': '2022-05-23 11:38:25', 'Publication Year': '2015', 'Title': 'Impact of the Consolidated Standards of Reporting Trials (CONSORT) checklist on reporting of randomized clinical trials in traditional Chinese medicine', 'page': 13, 'source': 'C:/Users/pouri/Zotero/storage/4S6DU9H9/Liu et al. - 2015 - Impact of the Consolidated Standards of Reporting .pdf'}),\n",
       "  Document(page_content='X.-T. Liu et al. CONSORT of RCT in TCM\\nendorsement of the CONSORT statement. To strengthen our\\nﬁndings, we recommend that this evaluation be expanded to\\ninclude more adopter journals in the ﬁeld of TCM. To fa-\\ncilitate such a study, we encourage all journals to indicate,\\nperhaps in their instructions for authors, whether they support\\nthe CONSORT statement and the level of support. Moreover,\\nthe sample sizes of two groups of our study were small, such\\nthat they may have not enough power to detect the impact\\nof adherence to the CONSORT checklist to promote quality\\nof reporting. In addition, the RCTs assessed were published\\nseveral years ago and may no longer reﬂect current report-\\ning practices; the reports of RCTs were extracted from two\\njournals and therefore cannot necessarily be generalized to\\nfuture studies in the two journals or to a contemporary set of\\npapers in other TCM journals. On the other hand, reports of\\nRCTs published in 2010 to 2011 were chosen for assessing\\nthe inﬂuence of CONSORT statement on quality of reporting,\\nonly 12 months after the endorsement of CONSORT by the\\njournal (JCIM). It is possible, even likely, that effective dis-\\nsemination is a slow process and that to estimate the true im-\\npact of CONSORT requires more time; many RCTs reported\\nbefore January 2009 may have commenced enrollment be-\\nfore the CONSORT statement was endorsed by JCIM, which,\\nin turn, may affect reporting within CONSORT checklist. It', metadata={'Author': 'Liu, X. T.; Zhang, X.; Wen, S.; Peng, L.; Hong, Q.; Kang, D.', 'Date Added': 2022, 'Publication Year': 2015, 'Title': 'Impact of the Consolidated Standards of Reporting Trials (CONSORT) checklist on reporting of randomized clinical trials in traditional Chinese medicine', 'page': 13, 'source': 'C:/Users/pouri/Zotero/storage/4S6DU9H9/Liu et al. - 2015 - Impact of the Consolidated Standards of Reporting .pdf'}),\n",
       "  Document(page_content='the adoption of CONSORT statement improve the report-\\ning quality of methodological factors of RCTs, we therefore\\nevaluated four methodological factors from Jadad scale that\\nwe considered strongly related to trial validity.\\nRecently, many studies that have assessed the quality of\\nreporting of RCTs have generally been restricted to trials\\nin speciﬁc journal types or disease areas (32, 39–47). These\\nstudies show that considerable variability may exist in the\\nreporting of some aspects of RCTs, depending on the area as-\\nsessed, the recent study 59 published on BMC Complement\\nAltern Med aimed to explore the quality change of TCM\\nRCTs by taking CONSORT statements and Jadad scale sim-\\nply as evaluation tools. However, there are many differences\\nfrom our study, ﬁrst, in Li’s study not controlled those known\\nor unknown factors for causing quality change. Second, we\\nconducted a paired case-control study, while Li’s study be-\\nlongs to a cross-sectional study. Finally, In Li’s article, the\\nCONSORT 2010 was used as the only tool to evaluate the\\nRCTs published from 2005 to 2009 and RCTs published\\nduring 2011 to 2012. However, to the former, the CON-\\nSORT 2001 seems more suitable. There is also a mounting\\nevidence that suggests that the quality of trial reporting in-\\nside speciﬁc journals may be far worse than, in general,\\nmedicine journals (27, 28, 32, 48, 49). The issue of report-\\ning power in TCM RCTs is troubling, previous study (39)', metadata={'Author': 'Liu, X. T.; Zhang, X.; Wen, S.; Peng, L.; Hong, Q.; Kang, D.', 'Date Added': '2022-05-23 11:38:25', 'Publication Year': '2015', 'Title': 'Impact of the Consolidated Standards of Reporting Trials (CONSORT) checklist on reporting of randomized clinical trials in traditional Chinese medicine', 'page': 11, 'source': 'C:/Users/pouri/Zotero/storage/4S6DU9H9/Liu et al. - 2015 - Impact of the Consolidated Standards of Reporting .pdf'}),\n",
       "  Document(page_content='the adoption of CONSORT statement improve the report-\\ning quality of methodological factors of RCTs, we therefore\\nevaluated four methodological factors from Jadad scale that\\nwe considered strongly related to trial validity.\\nRecently, many studies that have assessed the quality of\\nreporting of RCTs have generally been restricted to trials\\nin speciﬁc journal types or disease areas (32, 39–47). These\\nstudies show that considerable variability may exist in the\\nreporting of some aspects of RCTs, depending on the area as-\\nsessed, the recent study 59 published on BMC Complement\\nAltern Med aimed to explore the quality change of TCM\\nRCTs by taking CONSORT statements and Jadad scale sim-\\nply as evaluation tools. However, there are many differences\\nfrom our study, ﬁrst, in Li’s study not controlled those known\\nor unknown factors for causing quality change. Second, we\\nconducted a paired case-control study, while Li’s study be-\\nlongs to a cross-sectional study. Finally, In Li’s article, the\\nCONSORT 2010 was used as the only tool to evaluate the\\nRCTs published from 2005 to 2009 and RCTs published\\nduring 2011 to 2012. However, to the former, the CON-\\nSORT 2001 seems more suitable. There is also a mounting\\nevidence that suggests that the quality of trial reporting in-\\nside speciﬁc journals may be far worse than, in general,\\nmedicine journals (27, 28, 32, 48, 49). The issue of report-\\ning power in TCM RCTs is troubling, previous study (39)', metadata={'Author': 'Liu, X. T.; Zhang, X.; Wen, S.; Peng, L.; Hong, Q.; Kang, D.', 'Date Added': 2022, 'Publication Year': 2015, 'Title': 'Impact of the Consolidated Standards of Reporting Trials (CONSORT) checklist on reporting of randomized clinical trials in traditional Chinese medicine', 'page': 11, 'source': 'C:/Users/pouri/Zotero/storage/4S6DU9H9/Liu et al. - 2015 - Impact of the Consolidated Standards of Reporting .pdf'})],\n",
       " 'answer': 'The CONSORT statement is a guideline designed to improve the reporting quality of randomized controlled trials (RCTs). It provides a checklist of items that should be included in the report of an RCT to ensure transparency and completeness. Adherence to the CONSORT checklist is believed to enhance the quality of reporting in RCTs by promoting standardized reporting practices.'}"
      ]
     },
     "execution_count": 18,
     "metadata": {},
     "output_type": "execute_result"
    }
   ],
   "source": [
    "out[\"agent_out\"]"
   ]
  },
  {
   "cell_type": "code",
   "execution_count": 19,
   "id": "c9e98537",
   "metadata": {},
   "outputs": [
    {
     "name": "stdout",
     "output_type": "stream",
     "text": [
      "> run_query_agent\n",
      "> router\n",
      "> execute_search\n"
     ]
    }
   ],
   "source": [
    "out = runnable.invoke({\"input\": \"Tell me more. `session_id` is abc123\"})"
   ]
  },
  {
   "cell_type": "code",
   "execution_count": 20,
   "id": "402ab0e2",
   "metadata": {
    "scrolled": true
   },
   "outputs": [
    {
     "data": {
      "text/plain": [
       "{'input': 'Tell me more',\n",
       " 'chat_history': [HumanMessage(content='relation between consort and rct'),\n",
       "  AIMessage(content='The CONSORT statement is a guideline designed to improve the reporting quality of randomized controlled trials (RCTs). It provides a checklist of items that should be included in the report of an RCT to ensure transparency and completeness. Adherence to the CONSORT checklist is believed to enhance the quality of reporting in RCTs by promoting standardized reporting practices.')],\n",
       " 'context': [],\n",
       " 'answer': 'The CONSORT (Consolidated Standards of Reporting Trials) statement was first published in 1996 and has since been updated several times to improve the reporting quality of RCTs. The CONSORT checklist includes items related to the title, abstract, introduction, methods, results, and discussion sections of an RCT report. By following the CONSORT guidelines, researchers can ensure that their RCT reports provide clear and comprehensive information about the study design, conduct, analysis, and results. This transparency helps readers, reviewers, and editors assess the validity and reliability of the study findings. Adherence to the CONSORT statement is often a requirement for publication in many medical journals.'}"
      ]
     },
     "execution_count": 20,
     "metadata": {},
     "output_type": "execute_result"
    }
   ],
   "source": [
    "out[\"agent_out\"]"
   ]
  },
  {
   "cell_type": "code",
   "execution_count": 21,
   "id": "f498d75d",
   "metadata": {},
   "outputs": [
    {
     "name": "stdout",
     "output_type": "stream",
     "text": [
      "> run_query_agent\n",
      "> router\n",
      "> handle_error\n"
     ]
    }
   ],
   "source": [
    "out = runnable.invoke({\"input\": \"hi. `session_id` is abc123\"})"
   ]
  },
  {
   "cell_type": "code",
   "execution_count": 22,
   "id": "73b8be6b",
   "metadata": {
    "scrolled": false
   },
   "outputs": [
    {
     "data": {
      "text/plain": [
       "'Hello! How can I assist you today?'"
      ]
     },
     "execution_count": 22,
     "metadata": {},
     "output_type": "execute_result"
    }
   ],
   "source": [
    "out[\"agent_out\"]"
   ]
  },
  {
   "cell_type": "code",
   "execution_count": 53,
   "id": "a0e480a6",
   "metadata": {
    "scrolled": false
   },
   "outputs": [
    {
     "name": "stdout",
     "output_type": "stream",
     "text": [
      "> run_query_agent\n",
      "> router\n",
      "> execute_sql\n"
     ]
    }
   ],
   "source": [
    "out = runnable.invoke({\"input\": \"How many unique titles are there that published in 2021? \\n\\n `session_id` is abc123\"})"
   ]
  },
  {
   "cell_type": "code",
   "execution_count": 54,
   "id": "1855c531",
   "metadata": {},
   "outputs": [
    {
     "data": {
      "text/plain": [
       "'There are 55 unique titles that were published in 2021.'"
      ]
     },
     "execution_count": 54,
     "metadata": {},
     "output_type": "execute_result"
    }
   ],
   "source": [
    "out[\"agent_out\"]"
   ]
  },
  {
   "cell_type": "code",
   "execution_count": null,
   "id": "dcf2f1c6",
   "metadata": {},
   "outputs": [],
   "source": []
  }
 ],
 "metadata": {
  "kernelspec": {
   "display_name": "langchain_env",
   "language": "python",
   "name": "langchain_env"
  },
  "language_info": {
   "codemirror_mode": {
    "name": "ipython",
    "version": 3
   },
   "file_extension": ".py",
   "mimetype": "text/x-python",
   "name": "python",
   "nbconvert_exporter": "python",
   "pygments_lexer": "ipython3",
   "version": "3.12.2"
  }
 },
 "nbformat": 4,
 "nbformat_minor": 5
}
