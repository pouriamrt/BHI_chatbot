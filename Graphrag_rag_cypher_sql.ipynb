{
 "cells": [
  {
   "cell_type": "code",
   "execution_count": 1,
   "id": "b7fb8390",
   "metadata": {},
   "outputs": [],
   "source": [
    "import warnings\n",
    "warnings.filterwarnings(\"ignore\")"
   ]
  },
  {
   "cell_type": "code",
   "execution_count": 2,
   "id": "9715d774",
   "metadata": {},
   "outputs": [],
   "source": [
    "from langchain.globals import set_verbose, set_debug\n",
    "\n",
    "set_debug(False)\n",
    "set_verbose(False)"
   ]
  },
  {
   "cell_type": "code",
   "execution_count": 3,
   "id": "83cb113d",
   "metadata": {},
   "outputs": [],
   "source": [
    "from langchain.chains import create_history_aware_retriever, create_retrieval_chain\n",
    "from langchain.chains.combine_documents import create_stuff_documents_chain\n",
    "from langchain.vectorstores import Chroma\n",
    "from langchain_community.chat_message_histories import ChatMessageHistory\n",
    "from langchain_core.chat_history import BaseChatMessageHistory\n",
    "from langchain_core.prompts import ChatPromptTemplate, MessagesPlaceholder\n",
    "from langchain_core.runnables.history import RunnableWithMessageHistory\n",
    "from langchain_openai import ChatOpenAI, OpenAIEmbeddings\n",
    "from langchain.chains.query_constructor.base import AttributeInfo\n",
    "from langchain.retrievers.self_query.base import SelfQueryRetriever\n",
    "from langchain_openai import ChatOpenAI\n",
    "from langchain.prompts import PromptTemplate\n",
    "from langchain.retrievers.document_compressors import LLMChainFilter\n",
    "from langchain.retrievers import ContextualCompressionRetriever\n",
    "from langchain_core.messages import AIMessage, HumanMessage"
   ]
  },
  {
   "cell_type": "code",
   "execution_count": 4,
   "id": "95f6de93",
   "metadata": {},
   "outputs": [],
   "source": [
    "from dotenv import load_dotenv\n",
    "import os\n",
    "from tqdm import tqdm\n",
    "\n",
    "# Common data processing\n",
    "import textwrap\n",
    "\n",
    "# Langchain\n",
    "from langchain_community.graphs import Neo4jGraph\n",
    "from langchain_community.vectorstores import Neo4jVector\n",
    "from langchain.text_splitter import RecursiveCharacterTextSplitter\n",
    "from langchain.chains import RetrievalQAWithSourcesChain, RetrievalQA\n",
    "from langchain_openai import ChatOpenAI\n",
    "from langchain_openai import OpenAIEmbeddings\n",
    "from langchain.chains import GraphCypherQAChain"
   ]
  },
  {
   "cell_type": "code",
   "execution_count": 5,
   "id": "a432dc10",
   "metadata": {},
   "outputs": [],
   "source": [
    "# llm = ChatOpenAI(model=\"gpt-3.5-turbo\", temperature=0)\n",
    "llm = ChatOpenAI(model=\"gpt-4o\", temperature=0)"
   ]
  },
  {
   "cell_type": "code",
   "execution_count": 6,
   "id": "0fb1dc42",
   "metadata": {},
   "outputs": [],
   "source": [
    "# Load from environment\n",
    "load_dotenv('.env', override=True)\n",
    "NEO4J_URI = \"bolt://localhost:7687\"\n",
    "NEO4J_USERNAME = \"neo4j\"\n",
    "NEO4J_PASSWORD = \"Pouria.1378\"\n",
    "NEO4J_DATABASE = os.getenv('NEO4J_DATABASE') or 'neo4j'\n",
    "OPENAI_API_KEY = os.getenv('OPENAI_API_KEY')\n",
    "\n",
    "# Global constants\n",
    "KEYWORD_INDEX_NAME = 'keyword'\n",
    "VECTOR_INDEX_NAME = 'paper_chunks_vec'\n",
    "VECTOR_NODE_LABEL = 'Chunk'\n",
    "VECTOR_SOURCE_PROPERTY = 'text'\n",
    "VECTOR_EMBEDDING_PROPERTY = 'textEmbedding'"
   ]
  },
  {
   "cell_type": "code",
   "execution_count": 184,
   "id": "a1aac4aa",
   "metadata": {},
   "outputs": [],
   "source": [
    "kg = Neo4jGraph(\n",
    "    url=NEO4J_URI, username=NEO4J_USERNAME, password=NEO4J_PASSWORD, database=NEO4J_DATABASE\n",
    ")"
   ]
  },
  {
   "cell_type": "code",
   "execution_count": 185,
   "id": "99e46e86",
   "metadata": {},
   "outputs": [],
   "source": [
    "persist_directory = 'all_docs_zotero/chroma/'\n",
    "embedding = OpenAIEmbeddings()\n",
    "\n",
    "vectordb = Chroma(persist_directory=persist_directory, embedding_function=embedding)\n",
    "\n",
    "metadata_field_info = [\n",
    "    AttributeInfo(\n",
    "        name=\"Publication Year\",\n",
    "        description=\"The year that the paper was published.\",\n",
    "        type=\"integer\",\n",
    "    ),\n",
    "    AttributeInfo(\n",
    "        name=\"Date Added\",\n",
    "        description=\"The year that the paper was added to the collection.\",\n",
    "        type=\"integer\",\n",
    "    ),\n",
    "    AttributeInfo(\n",
    "        name=\"Author\",\n",
    "        description=\"Authors of the paper, it could be couple of people.\",\n",
    "        type=\"string\",\n",
    "    ),\n",
    "    AttributeInfo(\n",
    "        name=\"Title\", \n",
    "        description=\"Title of the paper that the paper is about.\", \n",
    "        type=\"string\",\n",
    "    ),\n",
    "]\n",
    "\n",
    "document_content_description = \"Brain Heart Interconnectome (BHI) research papers\"\n",
    "\n",
    "retriever = SelfQueryRetriever.from_llm(\n",
    "    llm,\n",
    "    vectordb,\n",
    "    document_content_description,\n",
    "    metadata_field_info,\n",
    "    #search_kwargs={\"k\": 10}\n",
    "    #enable_limit=True,\n",
    ")\n",
    "\n",
    "_filter = LLMChainFilter.from_llm(llm)\n",
    "compression_retriever = ContextualCompressionRetriever(\n",
    "    base_compressor=_filter,\n",
    "    base_retriever=retriever\n",
    ")"
   ]
  },
  {
   "cell_type": "code",
   "execution_count": 186,
   "id": "2c71e904",
   "metadata": {},
   "outputs": [],
   "source": [
    "### Contextualize question ###\n",
    "contextualize_q_system_prompt = \"\"\"Given a chat history and the latest user question \\\n",
    "which might reference context in the chat history, formulate a standalone question \\\n",
    "which can be understood without the chat history. Do NOT answer the question, \\\n",
    "just reformulate it if needed and otherwise return it as is.\"\"\"\n",
    "\n",
    "contextualize_q_prompt = ChatPromptTemplate.from_messages(\n",
    "    [\n",
    "        (\"system\", contextualize_q_system_prompt),\n",
    "        MessagesPlaceholder(\"chat_history\"),\n",
    "        (\"human\", \"{input}\"),\n",
    "    ]\n",
    ")\n",
    "\n",
    "### Answer question ###\n",
    "qa_system_prompt = \"\"\"You are an assistant for question-answering tasks. \\\n",
    "Use the following pieces of retrieved context to answer the question. \\\n",
    "If you don't know the answer, just say that you don't know.\n",
    "\n",
    "{context}\"\"\"\n",
    "\n",
    "qa_prompt = ChatPromptTemplate.from_messages(\n",
    "    [\n",
    "        (\"system\", qa_system_prompt),\n",
    "        MessagesPlaceholder(\"chat_history\"),\n",
    "        (\"human\", \"{input}\"),\n",
    "    ]\n",
    ")\n",
    "\n",
    "### Statefully manage chat history ###\n",
    "store = {}\n",
    "\n",
    "\n",
    "def get_session_history(session_id: str) -> BaseChatMessageHistory:\n",
    "    if session_id not in store:\n",
    "        store[session_id] = ChatMessageHistory()\n",
    "    return store[session_id]"
   ]
  },
  {
   "cell_type": "code",
   "execution_count": 187,
   "id": "d2eddef2",
   "metadata": {},
   "outputs": [],
   "source": [
    "history_aware_retriever = create_history_aware_retriever(\n",
    "    llm, compression_retriever, contextualize_q_prompt\n",
    ")\n",
    "\n",
    "question_answer_chain = create_stuff_documents_chain(llm, qa_prompt)\n",
    "\n",
    "rag_chain = create_retrieval_chain(history_aware_retriever, question_answer_chain)\n",
    "\n",
    "conversational_rag_chain = RunnableWithMessageHistory(\n",
    "    rag_chain,\n",
    "    get_session_history,\n",
    "    input_messages_key=\"input\",\n",
    "    history_messages_key=\"chat_history\",\n",
    "    output_messages_key=\"answer\",\n",
    ")"
   ]
  },
  {
   "cell_type": "code",
   "execution_count": 188,
   "id": "37baea95",
   "metadata": {},
   "outputs": [],
   "source": [
    "retrieval_query_window = \"\"\"\n",
    "MATCH window=\n",
    "    (:Chunk)-[:NEXT*0..1]->(node)-[:NEXT*0..1]->(:Chunk)\n",
    "WITH node, score, window as longestWindow \n",
    "  ORDER BY length(window) DESC LIMIT 3\n",
    "WITH nodes(longestWindow) as chunkList, node, score\n",
    "  UNWIND chunkList as chunkRows\n",
    "WITH collect(chunkRows.text) as textList, node, score\n",
    "RETURN apoc.text.join(textList, \" \\n \") as text,\n",
    "    score,\n",
    "    node {.authors, .date_added, .page, .publication_year, .title} AS metadata\n",
    "\"\"\"\n",
    "\n",
    "vector_store_window = Neo4jVector.from_existing_index(\n",
    "    embedding=OpenAIEmbeddings(),\n",
    "    url=NEO4J_URI,\n",
    "    username=NEO4J_USERNAME,\n",
    "    password=NEO4J_PASSWORD,\n",
    "    database=\"neo4j\",\n",
    "    index_name=VECTOR_INDEX_NAME,\n",
    "    keyword_index_name=KEYWORD_INDEX_NAME,\n",
    "    search_type='hybrid',\n",
    "    text_node_property=VECTOR_SOURCE_PROPERTY,\n",
    "    retrieval_query=retrieval_query_window,\n",
    ")\n",
    "\n",
    "retriever_window = vector_store_window.as_retriever()\n",
    "\n",
    "history_aware_graph_retriever = create_history_aware_retriever(\n",
    "    llm, retriever_window, contextualize_q_prompt\n",
    ")\n",
    "\n",
    "question_answer_chain = create_stuff_documents_chain(llm, qa_prompt)\n",
    "\n",
    "rag_chain_for_graph = create_retrieval_chain(history_aware_graph_retriever, question_answer_chain)\n",
    "\n",
    "graph_rag_chain = RunnableWithMessageHistory(\n",
    "    rag_chain_for_graph,\n",
    "    get_session_history,\n",
    "    input_messages_key=\"input\",\n",
    "    history_messages_key=\"chat_history\",\n",
    "    output_messages_key=\"answer\",\n",
    ")"
   ]
  },
  {
   "cell_type": "code",
   "execution_count": 189,
   "id": "259fab97",
   "metadata": {},
   "outputs": [],
   "source": [
    "CYPHER_GENERATION_TEMPLATE = \"\"\"Task:Generate Cypher statement to query a graph database.\n",
    "Instructions:\n",
    "Use only the provided relationship types and properties in the schema.\n",
    "Do not use any other relationship types or properties that are not provided.\n",
    "Schema:\n",
    "{schema}\n",
    "Note: Do not include any explanations or apologies in your responses.\n",
    "Do not respond to any questions that might ask anything else than for you to construct a Cypher statement.\n",
    "Do not include any text except the generated Cypher statement.\n",
    "Examples: Here are a few examples of generated Cypher statements for particular questions:\n",
    "\n",
    "# Find all chunks containing the word 'consort'.\n",
    "MATCH (c:Chunk)\n",
    "    WHERE c.text CONTAINS 'consort'\n",
    "RETURN c.text\n",
    "\n",
    "# Retrieve chunks and their titles that contain a specific keyword.\n",
    "MATCH (c:Chunk)-[:BELONGS_TO]->(t:Title)\n",
    "    WHERE c.text CONTAINS 'specific keyword'\n",
    "RETURN t.name, c.text\n",
    "\n",
    "\n",
    "# How many papers published in 2021?\n",
    "MATCH (t:Title)-[:PUBLISHED_IN]->(y:Year)\n",
    "    WHERE y.value = 2021\n",
    "RETURN COUNT(t)\n",
    "\n",
    "# What papers did a specific author write?\n",
    "MATCH (a:Author)-[:WROTE]->(t:Title)\n",
    "    WHERE a.name = 'Author Name'\n",
    "RETURN t.name\n",
    "\n",
    "# Which papers were published in a specific year?\n",
    "MATCH (t:Title)-[:PUBLISHED_IN]->(y:Year {{value: 2021}})\n",
    "RETURN t.name\n",
    "\n",
    "# Retrieve all chunks belonging to a specific paper.\n",
    "MATCH (t:Title {{name: 'Paper Title'}})<-[:BELONGS_TO]-(c:Chunk)\n",
    "RETURN c.text\n",
    "\n",
    "# List all authors who wrote papers in a given year.\n",
    "MATCH (a:Author)-[:WROTE]->(t:Title)-[:PUBLISHED_IN]->(y:Year {{value: 2022}})\n",
    "RETURN a.name\n",
    "\n",
    "The question is:\n",
    "{question}\"\"\"\n",
    "\n",
    "CYPHER_GENERATION_PROMPT = PromptTemplate(\n",
    "    input_variables=[\"schema\", \"question\"], \n",
    "    template=CYPHER_GENERATION_TEMPLATE\n",
    ")\n",
    "\n",
    "cypherChain = GraphCypherQAChain.from_llm(\n",
    "    ChatOpenAI(temperature=0),\n",
    "    graph=kg,\n",
    "    verbose=True,\n",
    "    return_intermediate_steps=True,\n",
    "    output_key=\"answer\",\n",
    "    cypher_prompt=CYPHER_GENERATION_PROMPT,\n",
    ")"
   ]
  },
  {
   "cell_type": "code",
   "execution_count": 190,
   "id": "bef3aa57",
   "metadata": {},
   "outputs": [],
   "source": [
    "#"
   ]
  },
  {
   "cell_type": "code",
   "execution_count": 191,
   "id": "f71b22da",
   "metadata": {},
   "outputs": [],
   "source": [
    "from langchain_core.tools import tool\n",
    "from langgraph.prebuilt import ToolInvocation\n",
    "from langgraph.prebuilt import ToolExecutor\n",
    "from langchain_core.prompts import PromptTemplate\n",
    "from langchain_community.tools.sql_database.tool import QuerySQLDataBaseTool\n",
    "from langchain_core.output_parsers import StrOutputParser\n",
    "from langchain_community.utilities import SQLDatabase\n",
    "from langchain.chains import create_sql_query_chain\n",
    "from langchain_core.runnables import RunnablePassthrough\n",
    "from operator import itemgetter\n",
    "\n",
    "\n",
    "@tool(\"rag\")\n",
    "def rag_tool(query: str, session_id: str):\n",
    "    \"\"\"Returns the answer to the question with searching for information from the vectorstore.\"\"\"\n",
    "    \n",
    "    out = conversational_rag_chain.invoke({\"input\": query}, \n",
    "                                          config={\n",
    "                                              \"configurable\": {\"session_id\": session_id}\n",
    "                                          },\n",
    "    )\n",
    "    \n",
    "    return out\n",
    "\n",
    "\n",
    "@tool(\"sql\")\n",
    "def sql_tool(query: str, session_id: str):\n",
    "    \"\"\"Returns the answer to the questions which is transformable to a sql query.\"\"\"\n",
    "    \n",
    "    db = SQLDatabase.from_uri(\"sqlite:///C:/Users/pouri/Python/Lang_Chain/Projects/BHI_project/all_docs_zotero/chroma/chroma_new.sqlite3\", include_tables=['embedding_metadata'])\n",
    "    \n",
    "    execute_query = QuerySQLDataBaseTool(db=db)\n",
    "    \n",
    "    seed_prompt = \"\"\"\n",
    "    Given an input question, create a syntactically correct MySQL SQL query to run.\n",
    "\n",
    "    Question: \"Question here\"\n",
    "    SQLQuery: \"SQL Query to run\"\n",
    "\n",
    "    \"\"\"\n",
    "    restrictions = \"\"\"\n",
    "    Format all numeric response ###,###,###,###.\n",
    "    Only return relevant columns to the question.\n",
    "    If a table or column does not exist, return table or column could not be found.\n",
    "    Only type the SQL query and do not write ```sql before the SQL query statement.\n",
    "    Question: {input}\n",
    "    Top_k: {top_k}\n",
    "    Table Info: {table_info}\n",
    "    \"\"\"\n",
    "    prompt = seed_prompt + restrictions\n",
    "    PROMPT = PromptTemplate(\n",
    "        input_variables=[\"input\", \"top_k\", \"table_info\"], template=prompt\n",
    "    )\n",
    "\n",
    "    write_query = create_sql_query_chain(llm, db, prompt=PROMPT)\n",
    "    \n",
    "    query = \" \".join(query.split(\"session_id\")[:-1])[:-4]\n",
    "    \n",
    "    answer_prompt = PromptTemplate.from_template(\n",
    "    \"\"\"Given the following user question, corresponding SQL query, \n",
    "    and SQL result, answer the user question.\n",
    "\n",
    "    Question: {question}\n",
    "    SQL Query: {query}\n",
    "    SQL Result: {result}\n",
    "    Answer: \"\"\"\n",
    "    )\n",
    "    \n",
    "    answer = answer_prompt | llm | StrOutputParser()\n",
    "    \n",
    "    chain = (\n",
    "        RunnablePassthrough.assign(query=write_query).assign(\n",
    "            result=itemgetter(\"query\") | execute_query\n",
    "        )\n",
    "        | answer\n",
    "    )\n",
    "    \n",
    "    output = chain.invoke({\"question\": query})\n",
    "    \n",
    "    return output\n",
    "\n",
    "\n",
    "@tool(\"graphrag\")\n",
    "def graph_rag_tool(query: str, session_id: str):\n",
    "    \"\"\"Returns the answer to the question with searching for information based on embeddings.\"\"\"\n",
    "    \n",
    "    out = graph_rag_chain.invoke(\n",
    "        {\"input\": query},\n",
    "              config={\n",
    "                  \"configurable\": {\"session_id\": session_id}\n",
    "              }\n",
    "    )\n",
    "    \n",
    "    return out\n",
    "\n",
    "\n",
    "@tool(\"cypher\")\n",
    "def kg_cypher_tool(query: str, session_id: str):\n",
    "    \"\"\"Returns the answer to the questions which can be or is transformable to a cypher query to run on graph database and it can be about the number of stuff and etc.\"\"\"\n",
    "    \n",
    "    output = cypherChain.invoke(\n",
    "        {\"query\": query},\n",
    "            config={\n",
    "              \"configurable\": {\"session_id\": session_id}\n",
    "            }\n",
    "    )\n",
    "    \n",
    "    return output\n",
    "\n",
    "\n",
    "tools = [graph_rag_tool, kg_cypher_tool, rag_tool, sql_tool]"
   ]
  },
  {
   "cell_type": "code",
   "execution_count": 192,
   "id": "53c75d32",
   "metadata": {},
   "outputs": [],
   "source": [
    "from langchain.agents import create_openai_tools_agent\n",
    "from langchain import hub\n",
    "from langchain_core.prompts.chat import ChatMessagePromptTemplate\n",
    "\n",
    "prompt = hub.pull(\"hwchase17/openai-functions-agent\")\n",
    "prompt.messages[0].prompt.template = \"You are a helpful assistant. Decide carefully which tool to use based on the tools description and the question.\"\n",
    "\n",
    "query_agent_runnable = create_openai_tools_agent(\n",
    "    llm=llm,\n",
    "    tools=tools,\n",
    "    prompt=prompt\n",
    ")"
   ]
  },
  {
   "cell_type": "code",
   "execution_count": 193,
   "id": "c5ceeecf",
   "metadata": {},
   "outputs": [
    {
     "data": {
      "text/plain": [
       "{'id': 'call_gScO83pRnvnjvSbngBKQygHt',\n",
       " 'function': {'arguments': '{\"query\":\"MATCH (c:Company {name: \\'Consort\\'})-[:HAS_RELATIONSHIP_WITH]->(r:Company {name: \\'RCT\\'}) RETURN c, r\",\"session_id\":\"abc123\"}',\n",
       "  'name': 'cypher'},\n",
       " 'type': 'function'}"
      ]
     },
     "execution_count": 193,
     "metadata": {},
     "output_type": "execute_result"
    }
   ],
   "source": [
    "inputs = {\n",
    "    \"input\": \"what can you tell me about the relation between consort and rct? `session_id` is abc123\",\n",
    "    \"intermediate_steps\": []\n",
    "}\n",
    "agent_out = query_agent_runnable.invoke(inputs)\n",
    "agent_out[-1].message_log[-1].additional_kwargs[\"tool_calls\"][-1]"
   ]
  },
  {
   "cell_type": "code",
   "execution_count": 55,
   "id": "2ea126f8",
   "metadata": {},
   "outputs": [
    {
     "data": {
      "text/plain": [
       "{'id': 'call_jjTEQEP5WTmMehpWG9zbHh1Y',\n",
       " 'function': {'arguments': '{\"query\":\"consort\",\"session_id\":\"abc123\"}',\n",
       "  'name': 'rag'},\n",
       " 'type': 'function'}"
      ]
     },
     "execution_count": 55,
     "metadata": {},
     "output_type": "execute_result"
    }
   ],
   "source": [
    "inputs = {\n",
    "    \"input\": \"What can you tell me about consort? `session_id` is abc123\",\n",
    "    \"intermediate_steps\": []\n",
    "}\n",
    "agent_out = query_agent_runnable.invoke(inputs)\n",
    "agent_out[-1].message_log[-1].additional_kwargs[\"tool_calls\"][-1]"
   ]
  },
  {
   "cell_type": "code",
   "execution_count": 18,
   "id": "6e402b61",
   "metadata": {},
   "outputs": [
    {
     "data": {
      "text/plain": [
       "{'id': 'call_Jd6JBT4cbgXOYv8k0iz5MhVl',\n",
       " 'function': {'arguments': '{\"query\":\"SELECT COUNT(*) FROM papers WHERE publication_year = 2021;\",\"session_id\":\"abc123\"}',\n",
       "  'name': 'sql'},\n",
       " 'type': 'function'}"
      ]
     },
     "execution_count": 18,
     "metadata": {},
     "output_type": "execute_result"
    }
   ],
   "source": [
    "inputs = {\n",
    "    \"input\": \"How many papers in the database published in 2021? use sql. `session_id` is abc123\",\n",
    "    \"intermediate_steps\": []\n",
    "}\n",
    "agent_out = query_agent_runnable.invoke(inputs)\n",
    "agent_out[-1].message_log[-1].additional_kwargs[\"tool_calls\"][-1]"
   ]
  },
  {
   "cell_type": "code",
   "execution_count": 194,
   "id": "0755756d",
   "metadata": {},
   "outputs": [],
   "source": [
    "import json\n",
    "\n",
    "def run_query_agent(state: list):\n",
    "    print(\"> run_query_agent\")\n",
    "    agent_out = query_agent_runnable.invoke(state)\n",
    "    return {\"agent_out\": agent_out}\n",
    "\n",
    "def execute_embedding_search(state: list):\n",
    "    print(\"> execute_embedding_search\")\n",
    "    action = state[\"agent_out\"]\n",
    "    tool_call = action[-1].message_log[-1].additional_kwargs[\"tool_calls\"][-1]\n",
    "    \n",
    "    out = graph_rag_tool.invoke(\n",
    "        json.loads(tool_call[\"function\"][\"arguments\"]), \n",
    "    )\n",
    "    \n",
    "    #return {\"intermediate_steps\": [{\"search\": str(out)}]}\n",
    "    return {\"agent_out\": out}\n",
    "\n",
    "def execute_search(state: list):\n",
    "    print(\"> execute_search\")\n",
    "    action = state[\"agent_out\"]\n",
    "    tool_call = action[-1].message_log[-1].additional_kwargs[\"tool_calls\"][-1]\n",
    "    \n",
    "    out = rag_tool.invoke(\n",
    "        json.loads(tool_call[\"function\"][\"arguments\"]), \n",
    "    )\n",
    "    \n",
    "    #return {\"intermediate_steps\": [{\"search\": str(out)}]}\n",
    "    return {\"agent_out\": out}\n",
    "\n",
    "def router(state: list):\n",
    "    print(\"> router\")\n",
    "    if isinstance(state[\"agent_out\"], list):\n",
    "        return state[\"agent_out\"][-1].tool\n",
    "    else:\n",
    "        return \"error\"\n",
    "    \n",
    "def execute_cypher_query(state: list):\n",
    "    print(\"> execute_cypher_query\")\n",
    "    action = state[\"agent_out\"]\n",
    "    tool_call = action[-1].message_log[-1].additional_kwargs[\"tool_calls\"][-1]\n",
    "    d = json.loads(tool_call[\"function\"][\"arguments\"])\n",
    "    d['query'] = state[\"input\"].split(\"`session_id`\")[0]\n",
    "    \n",
    "    out = kg_cypher_tool.invoke(\n",
    "        d, \n",
    "    )\n",
    "    \n",
    "    return {\"agent_out\": out}\n",
    "\n",
    "def execute_sql(state: list):\n",
    "    print(\"> execute_sql\")\n",
    "    action = state[\"agent_out\"]\n",
    "    tool_call = action[-1].message_log[-1].additional_kwargs[\"tool_calls\"][-1]\n",
    "    d = json.loads(tool_call[\"function\"][\"arguments\"])\n",
    "    d['query'] = state[\"input\"]\n",
    "    \n",
    "    out = sql_tool.invoke(\n",
    "        d, \n",
    "    )\n",
    "    \n",
    "    return {\"agent_out\": out}\n",
    "\n",
    "# we use the same forced final_answer LLM call to handle incorrectly formatted\n",
    "# output from our query_agent\n",
    "def handle_error(state: list):\n",
    "    print(\"> handle_error\")\n",
    "    query = state[\"input\"]\n",
    "    prompt = f\"\"\"You are a helpful assistant, answer the user's question. \n",
    "    Ignore anything about the session id if there was any in the query.\n",
    "\n",
    "    QUESTION: {query}\n",
    "    \"\"\"\n",
    "    out = llm.invoke(prompt)\n",
    "    return {\"agent_out\": out.content}"
   ]
  },
  {
   "cell_type": "code",
   "execution_count": 195,
   "id": "620d3241",
   "metadata": {},
   "outputs": [],
   "source": [
    "from typing import TypedDict, Annotated, List, Union\n",
    "from langchain_core.agents import AgentAction, AgentFinish\n",
    "import operator\n",
    "from langchain_core.messages.base import BaseMessage\n",
    "\n",
    "class AgentState(TypedDict):\n",
    "    input: str\n",
    "    agent_out: Union[AgentAction, AgentFinish, None]\n",
    "    intermediate_steps: Annotated[list[tuple[AgentAction, str]], operator.add]"
   ]
  },
  {
   "cell_type": "code",
   "execution_count": 196,
   "id": "27b7b995",
   "metadata": {},
   "outputs": [],
   "source": [
    "from langgraph.graph import StateGraph, END\n",
    "from langgraph.checkpoint.sqlite import SqliteSaver\n",
    "\n",
    "graph = StateGraph(AgentState)\n",
    "\n",
    "graph.add_node(\"query_agent\", run_query_agent)\n",
    "graph.add_node(\"graphrag\", execute_embedding_search)\n",
    "graph.add_node(\"cypher\", execute_cypher_query)\n",
    "graph.add_node(\"rag\", execute_search)\n",
    "graph.add_node(\"sql\", execute_sql)\n",
    "graph.add_node(\"error\", handle_error)\n",
    "\n",
    "graph.set_entry_point(\"query_agent\")\n",
    "\n",
    "# conditional edges are controlled by our router\n",
    "graph.add_conditional_edges(\n",
    "    \"query_agent\",  # where in graph to start\n",
    "    router,  # function to determine which node is called\n",
    "    {\n",
    "        \"graphrag\": \"graphrag\",\n",
    "        \"cypher\": \"cypher\",\n",
    "        \"rag\": \"rag\",\n",
    "        \"sql\": \"sql\",\n",
    "        \"error\": \"error\",\n",
    "    }\n",
    ")\n",
    "\n",
    "graph.add_edge(\"graphrag\", END)\n",
    "graph.add_edge(\"cypher\", END)\n",
    "graph.add_edge(\"rag\", END)\n",
    "graph.add_edge(\"sql\", END)\n",
    "graph.add_edge(\"error\", END)\n",
    "\n",
    "\n",
    "# memory = SqliteSaver.from_conn_string(\":memory:\")\n",
    "\n",
    "# runnable = graph.compile(checkpointer=memory)\n",
    "runnable = graph.compile()"
   ]
  },
  {
   "cell_type": "code",
   "execution_count": 197,
   "id": "735fd53a",
   "metadata": {},
   "outputs": [
    {
     "data": {
      "image/png": "[encoded data removed]",
      "text/plain": [
       "<IPython.core.display.Image object>"
      ]
     },
     "execution_count": 197,
     "metadata": {},
     "output_type": "execute_result"
    }
   ],
   "source": [
    "from IPython.display import Image\n",
    "\n",
    "Image(runnable.get_graph().draw_png())"
   ]
  },
  {
   "cell_type": "code",
   "execution_count": 200,
   "id": "eaccaf0a",
   "metadata": {},
   "outputs": [
    {
     "name": "stdout",
     "output_type": "stream",
     "text": [
      "> run_query_agent\n"
     ]
    },
    {
     "name": "stderr",
     "output_type": "stream",
     "text": [
      "Parent run 4d0d859a-e870-4989-be9b-e22686981e0c not found for run 0d195d26-5713-4233-8e1a-d0b8324ff7d9. Treating as a root run.\n"
     ]
    },
    {
     "name": "stdout",
     "output_type": "stream",
     "text": [
      "> router\n",
      "> execute_search\n"
     ]
    }
   ],
   "source": [
    "out = runnable.invoke({\"input\": \"Tell me about consort and rct? `session_id` is abc123\"})"
   ]
  },
  {
   "cell_type": "code",
   "execution_count": 177,
   "id": "522ccf65",
   "metadata": {},
   "outputs": [
    {
     "name": "stdout",
     "output_type": "stream",
     "text": [
      "> run_query_agent\n",
      "> router\n",
      "> execute_sql\n"
     ]
    }
   ],
   "source": [
    "out = runnable.invoke({\"input\": \"How many papers published in 2024? do not use LIMIT. use sql. `session_id` is abc123\"})"
   ]
  },
  {
   "cell_type": "code",
   "execution_count": 108,
   "id": "58c7ec2d",
   "metadata": {},
   "outputs": [
    {
     "name": "stdout",
     "output_type": "stream",
     "text": [
      "> run_query_agent\n",
      "> router\n",
      "> execute_cypher_query\n",
      "\n",
      "\n",
      "\u001b[1m> Entering new GraphCypherQAChain chain...\u001b[0m\n",
      "Generated Cypher:\n",
      "\u001b[32;1m\u001b[1;3mMATCH (t:Title)-[:PUBLISHED_IN]->(y:Year)\n",
      "    WHERE y.value = 2024\n",
      "RETURN COUNT(t)\u001b[0m\n",
      "Full Context:\n",
      "\u001b[32;1m\u001b[1;3m[{'COUNT(t)': 35}]\u001b[0m\n",
      "\n",
      "\u001b[1m> Finished chain.\u001b[0m\n"
     ]
    }
   ],
   "source": [
    "out = runnable.invoke({\"input\": \"How many papers published in 2024? use cypher. `session_id` is abc123\"})"
   ]
  },
  {
   "cell_type": "code",
   "execution_count": 127,
   "id": "c2894727",
   "metadata": {},
   "outputs": [
    {
     "name": "stdout",
     "output_type": "stream",
     "text": [
      "> run_query_agent\n"
     ]
    },
    {
     "name": "stderr",
     "output_type": "stream",
     "text": [
      "Parent run 1d9c8e83-1bdd-458e-ba2a-87f31784be88 not found for run fc687759-a8ee-40d6-ac7d-03e44aea8c81. Treating as a root run.\n"
     ]
    },
    {
     "name": "stdout",
     "output_type": "stream",
     "text": [
      "> router\n",
      "> execute_embedding_search\n"
     ]
    }
   ],
   "source": [
    "out = runnable.invoke({\"input\": \"Tell me more. `session_id` is abc123\"})"
   ]
  },
  {
   "cell_type": "code",
   "execution_count": 201,
   "id": "645becf8",
   "metadata": {},
   "outputs": [
    {
     "data": {
      "text/plain": [
       "{'input': 'consort and rct based on the papers published in 2021',\n",
       " 'chat_history': [HumanMessage(content='rct'),\n",
       "  AIMessage(content='A Randomized Controlled Trial (RCT) is a type of scientific experiment that aims to reduce certain types of bias when testing the effectiveness of new treatments. This is achieved by randomly allocating participants to either the group receiving the treatment under investigation or to a group receiving standard treatment (or placebo treatment) as the control. Here are some key points about RCTs based on the provided context:\\n\\n1. **Definition and Importance**:\\n   - RCTs are considered the gold standard for evaluating new therapies or treatment strategies in medicine.\\n   - They are crucial for providing valid clinical evidence for medical practitioners, other investigators, and policy makers.\\n\\n2. **Quality and Reporting**:\\n   - The quality of RCT reporting is essential to ensure the validity and reliability of the trial results.\\n   - Tools like the CONSORT (Consolidated Standards of Reporting Trials) checklist and the Jadad scale are used to assess the quality of RCT reports.\\n   - Discrepancies between what is recorded in Clinical Trial Registries (CTRs) and what is published in RCTs can indicate potential biases or issues in trial reporting.\\n\\n3. **Discrepancies and Bias**:\\n   - Studies have found discrepancies between the information recorded in CTRs and what is published in RCTs, which can suggest a risk of bias.\\n   - Common discrepancies include issues with reported funding, sample size, inclusion and exclusion criteria, and the reporting of primary and secondary outcomes.\\n\\n4. **Registration and Adherence**:\\n   - RCTs should be registered in recognized clinical trial registries before the start of data collection to ensure transparency and accountability.\\n   - Adherence to guidelines like CONSORT is recommended to improve the quality and transparency of RCT reporting.\\n\\n5. **International vs. National Journals**:\\n   - There is no significant difference in the quality of RCT reports published in international versus national journals, although there is room for improvement in both.\\n\\n6. **Specific Studies**:\\n   - For example, a study assessing the quality of pediatric RCTs conducted by Indonesian investigators found that the overall quality was fairly satisfactory, but there is still a need for better familiarization with good RCT reporting practices.\\n\\nIn summary, RCTs are a critical component of clinical research, and ensuring their proper design, conduct, and reporting is essential for generating reliable and valid clinical evidence.')],\n",
       " 'context': [Document(page_content='using a standardized reporting form, and discrepancies were resolved through adjudication.\\nOur study has limitations. Our study focused only on RCTs, limiting our ability to draw \\nconclusions about reporting of other methodologies. We utilized a sample of OBGyn RCTs \\nfrom six high impact journals to function as a representative sample across the field, but \\nin the absence of inclusion of all OBGyn journals, bias may have been introduced. All \\nincluded journals endorse CONSORT guidelines. Evaluation of RCTs in journals requiring \\nversus not requiring CONSORT guidelines may have provided a better comparison of trial \\nquality resulting from guideline use. However, previous literature has already demonstrated \\nan association between CONSORT utilization and improved quality.18 There has not been \\na study to our knowledge evaluating CONSORT compliance and reproducibility of study \\nfindings; such an analysis was beyond the scope of our study. We completed an exploratory \\nanalysis to evaluate trends in CONSORT compliance over time. In the future, a study could \\nbe designed to better evaluate this particular question in the OBGyn literature.\\nResearch Implications & Conclusions\\nThere is a significant opportunity to improve scientific rigor, transparency, and \\nreproducibility in our field. To make reproducibility possible, CONSORT guidelines and \\npre-trial registration aim to hold authors accountable to their pre-specified plans in order', metadata={'Author': 'Bruno, A. M.; Olmsted, M. W.; Martin, V.; Einerson, B. D.; Metz, T. D.; Allshouse, A. A.; Scott, J. R.; Blue, N. R.', 'Date Added': 2022, 'Publication Year': 2021, 'Title': 'Rigor, reproducibility, and transparency of randomized controlled trials in obstetrics and gynecology', 'page': 7, 'source': 'C:/Users/pouri/Zotero/storage/RVBJ8QU6/Rigor, reproducibility, and transparency of randomized controlled trials in obstetrics and gynecology.pdf'}),\n",
       "  Document(page_content='ciency of the data for these items may present intentional\\nfocus rather than a deficient design. In addition, reports onother important issues are unsatisfactory. Under joint pro-\\njects, future publications need to improve the quality of\\nreporting.\\nSeveral methods can promote the quality of reports:\\nincreasing compliance with spouses, training, or improving\\nthe quality of reporting.\\n34Training should be focused on\\nthose areas that correspond to poor quality reporting of pro-\\njects. In this study, CONSORT has not been adopted in\\nsome journals. More journal-approved spouses should beencouraged to improve trial reports. It also helps to make\\nthe current CONSORT statement more user friendly.\\nIn order to make the article more comprehensive, we\\nadopted many quality evaluation articles to evaluate the\\nindex of RCT to complete our article. For example, we used\\nthe OQS scoring method used in some quality evaluationarticles, as well as all the entries in the 28 CONSORT state-\\nments in some quality evaluation articles. Compared with\\nother quality evaluation articles, our article is more compre-hensive and advanced.\\n35-53\\nIn conclusion, the overall reporting quality of RCTs\\nincluding adverse event reporting score, key methodologicalfactors and endpoints on immunotherapy in lung cancer are\\nnot ideal. Investigators should pay more attention to CON-\\nSORT projects when designing and reporting trials. Addi-tionally, editors and peer reviewers also need to be more\\nscrutinizing and diligent.', metadata={'Author': 'Du, Jun; Zhang, Yundi; Dong, Yiting; Duan, Jianchun; Bai, Hua; Wang, Jie; Xu, Jiachen; Wang, Zhijie', 'Date Added': 2022, 'Publication Year': 2021, 'Title': 'Reporting quality of randomized, controlled trials evaluating immunotherapy in lung cancer', 'page': 5, 'source': 'C:/Users/pouri/Zotero/storage/MRLXQVPS/Du et al. - 2021 - Reporting quality of randomized, controlled trials.pdf'}),\n",
       "  Document(page_content='for studies at \\nlow RoB than high RoB (MD 33.1% (95% CI 16.1% to 50.2%)) and with RoB of some concern (MD 39.8% (95% CI 30.0% to 49.7%)). Reporting quality did not improve over time (MD −5.7% (95% CI −16.8% to 5.4%).Conclusions\\n Articles in CONSOR\\nT-\\n requiring journals \\nand of low RoB studies show better reporting quality.\\n Low reporting quality is linked to unclear \\nRoB judgements (some concern). Reporting quality did not improve over the last 10 years and CONSORT is insufficiently implemented. Concerted efforts by editors and authors are needed to improve CONSORT implementation.\\nINTRODUCTION\\nAs researchers, we have an implicit sense that some \\nstudies are better than others. To this end, we judge how studies are set up and whether a risk exists that the results are biased.\\n1 2 For this, proper reporting \\nof how research data was collected, analysed, and interpreted is crucial regardless of the study type. Already twenty years ago, researchers called for better reporting of studies, which resulted in reporting guidelines for almost any study type.\\n3\\nEven though randomised controlled trials (RCTs) \\nare considered the most rigorous scientific method to evaluate the effectiveness of interventions,\\n4 eval-', metadata={'Author': 'Tikka C.; Verbeek J.; Ijaz S.; Hoving J.L.; Boschman J.; Hulshof C.; De Boer A.G.', 'Date Added': 2022, 'Publication Year': 2021, 'Title': 'Quality of reporting and risk of bias: A review of randomised trials in occupational health', 'page': 0, 'source': 'C:/Users/pouri/Zotero/storage/TWDHKTFQ/Tikka C. et al. - 2021 - Quality of reporting and risk of bias A review of.pdf'})],\n",
       " 'answer': 'Based on the provided context, here are some insights regarding the CONSORT guidelines and RCTs based on papers published in 2021:\\n\\n1. **CONSORT Guidelines**:\\n   - The CONSORT (Consolidated Standards of Reporting Trials) guidelines are designed to improve the reporting quality of RCTs.\\n   - Journals that endorse CONSORT guidelines generally show better reporting quality in their published RCTs.\\n   - Despite the endorsement, the implementation of CONSORT guidelines is still insufficient, and there is a need for concerted efforts by editors and authors to improve adherence.\\n\\n2. **Quality of Reporting**:\\n   - Studies have shown that RCTs published in CONSORT-requiring journals tend to have better reporting quality compared to those in journals that do not require CONSORT adherence.\\n   - However, the overall reporting quality of RCTs, including key methodological factors and endpoints, is not ideal. This indicates a need for more rigorous adherence to CONSORT guidelines.\\n\\n3. **Trends Over Time**:\\n   - An exploratory analysis indicated that reporting quality did not significantly improve over the last 10 years, suggesting that merely endorsing CONSORT guidelines is not enough.\\n   - There is a significant opportunity to improve scientific rigor, transparency, and reproducibility in the field of RCTs.\\n\\n4. **Specific Findings**:\\n   - A study focusing on OBGyn RCTs from six high-impact journals found that while these journals endorse CONSORT guidelines, there is still room for improvement in reporting quality.\\n   - Another study on immunotherapy in lung cancer highlighted that the overall reporting quality of RCTs, including adverse event reporting, was not ideal, emphasizing the need for better compliance with CONSORT guidelines.\\n\\n5. **Recommendations**:\\n   - Training and education on CONSORT guidelines should be emphasized for researchers to improve the quality of RCT reporting.\\n   - Editors and peer reviewers need to be more diligent in ensuring that submitted manuscripts adhere to CONSORT guidelines.\\n   - Future studies should focus on evaluating CONSORT compliance and the reproducibility of study findings to further enhance the quality of RCTs.\\n\\nIn conclusion, while the CONSORT guidelines are a valuable tool for improving the quality of RCT reporting, their implementation needs to be more rigorous and widespread. Continuous efforts from researchers, editors, and reviewers are essential to achieve better adherence and improve the overall quality of RCTs.'}"
      ]
     },
     "execution_count": 201,
     "metadata": {},
     "output_type": "execute_result"
    }
   ],
   "source": [
    "out[\"agent_out\"]"
   ]
  },
  {
   "cell_type": "code",
   "execution_count": null,
   "id": "ecd6c62e",
   "metadata": {},
   "outputs": [],
   "source": []
  }
 ],
 "metadata": {
  "kernelspec": {
   "display_name": "langchain_env",
   "language": "python",
   "name": "langchain_env"
  },
  "language_info": {
   "codemirror_mode": {
    "name": "ipython",
    "version": 3
   },
   "file_extension": ".py",
   "mimetype": "text/x-python",
   "name": "python",
   "nbconvert_exporter": "python",
   "pygments_lexer": "ipython3",
   "version": "3.12.2"
  }
 },
 "nbformat": 4,
 "nbformat_minor": 5
}
