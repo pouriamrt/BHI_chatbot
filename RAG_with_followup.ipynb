{
 "cells": [
  {
   "cell_type": "code",
   "execution_count": 1,
   "id": "f34ebb2a",
   "metadata": {},
   "outputs": [],
   "source": [
    "import warnings\n",
    "warnings.filterwarnings(\"ignore\")"
   ]
  },
  {
   "cell_type": "code",
   "execution_count": 2,
   "id": "fbd1ecb8",
   "metadata": {},
   "outputs": [],
   "source": [
    "from langchain.vectorstores import Chroma\n",
    "from langchain_openai import OpenAIEmbeddings\n",
    "persist_directory = 'all_docs_zotero/chroma/'\n",
    "embedding = OpenAIEmbeddings()\n",
    "\n",
    "vectordb = Chroma(persist_directory=persist_directory, embedding_function=embedding)"
   ]
  },
  {
   "cell_type": "code",
   "execution_count": 42,
   "id": "a2546274",
   "metadata": {},
   "outputs": [],
   "source": [
    "from langchain.chains.query_constructor.base import AttributeInfo\n",
    "from langchain.retrievers.self_query.base import SelfQueryRetriever\n",
    "from langchain_openai import ChatOpenAI\n",
    "from langchain.prompts import PromptTemplate\n",
    "from langchain.retrievers.document_compressors import LLMChainFilter\n",
    "from langchain.retrievers import ContextualCompressionRetriever\n",
    "from langchain_core.messages import AIMessage, HumanMessage"
   ]
  },
  {
   "cell_type": "code",
   "execution_count": 4,
   "id": "b751d5cf",
   "metadata": {},
   "outputs": [],
   "source": [
    "metadata_field_info = [\n",
    "    AttributeInfo(\n",
    "        name=\"Publication Year\",\n",
    "        description=\"The year that the paper was published.\",\n",
    "        type=\"integer\",\n",
    "    ),\n",
    "    AttributeInfo(\n",
    "        name=\"Date Added\",\n",
    "        description=\"The year that the paper was added to the collection.\",\n",
    "        type=\"integer\",\n",
    "    ),\n",
    "    AttributeInfo(\n",
    "        name=\"Author\",\n",
    "        description=\"Authors of the paper, it could be couple of people.\",\n",
    "        type=\"string\",\n",
    "    ),\n",
    "    AttributeInfo(\n",
    "        name=\"Title\", \n",
    "        description=\"Title of the paper that the paper is about.\", \n",
    "        type=\"string\",\n",
    "    ),\n",
    "]"
   ]
  },
  {
   "cell_type": "code",
   "execution_count": 30,
   "id": "93fabab3",
   "metadata": {},
   "outputs": [],
   "source": [
    "document_content_description = \"Brain Heart Interconnectome (BHI) research papers\"\n",
    "llm = ChatOpenAI(temperature=0)\n",
    "\n",
    "retriever = SelfQueryRetriever.from_llm(\n",
    "    llm,\n",
    "    vectordb,\n",
    "    document_content_description,\n",
    "    metadata_field_info,\n",
    "    #enable_limit=True,\n",
    ")\n",
    "\n",
    "_filter = LLMChainFilter.from_llm(llm)\n",
    "compression_retriever = ContextualCompressionRetriever(\n",
    "    base_compressor=_filter,\n",
    "    base_retriever=retriever\n",
    ")"
   ]
  },
  {
   "cell_type": "code",
   "execution_count": 36,
   "id": "7f48745d",
   "metadata": {},
   "outputs": [],
   "source": [
    "query_transform_prompt = ChatPromptTemplate.from_messages(\n",
    "    [\n",
    "        MessagesPlaceholder(variable_name=\"messages\"),\n",
    "        (\n",
    "            \"user\",\n",
    "            \"Given the above conversation, generate a search query to look up \\\n",
    "            in order to get information relevant to the conversation. \\\n",
    "            Only respond with the query, nothing else.\",\n",
    "        ),\n",
    "    ]\n",
    ")"
   ]
  },
  {
   "cell_type": "code",
   "execution_count": 38,
   "id": "0955e5a7",
   "metadata": {},
   "outputs": [],
   "source": [
    "from langchain_core.output_parsers import StrOutputParser\n",
    "from langchain_core.runnables import RunnableBranch\n",
    "\n",
    "query_transforming_retriever_chain = RunnableBranch(\n",
    "    (\n",
    "        lambda x: len(x.get(\"messages\", [])) == 1,\n",
    "        # If only one message, then we just pass that message's content to retriever\n",
    "        (lambda x: x[\"messages\"][-1].content) | compression_retriever,\n",
    "    ),\n",
    "    # If messages, then we pass inputs to LLM chain to transform the query, then pass to retriever\n",
    "    query_transform_prompt | llm | StrOutputParser() | compression_retriever,\n",
    ").with_config(run_name=\"chat_retriever_chain\")"
   ]
  },
  {
   "cell_type": "code",
   "execution_count": 49,
   "id": "d892d8be",
   "metadata": {},
   "outputs": [],
   "source": [
    "from langchain.chains.combine_documents import create_stuff_documents_chain\n",
    "from langchain_core.prompts import ChatPromptTemplate, MessagesPlaceholder\n",
    "\n",
    "SYSTEM_TEMPLATE = \"\"\"\n",
    "Answer the user's questions based on the below context. \n",
    "If the context doesn't contain any relevant information \\\n",
    "to the question, don't make something up and just say \"I don't know\":\n",
    "\n",
    "<context>\n",
    "{context}\n",
    "</context>\n",
    "\"\"\"\n",
    "\n",
    "question_answering_prompt = ChatPromptTemplate.from_messages(\n",
    "    [\n",
    "        (\n",
    "            \"system\",\n",
    "            SYSTEM_TEMPLATE,\n",
    "        ),\n",
    "        MessagesPlaceholder(variable_name=\"messages\"),\n",
    "    ]\n",
    ")\n",
    "\n",
    "document_chain = create_stuff_documents_chain(llm, question_answering_prompt)\n",
    "\n",
    "conversational_retrieval_chain = RunnablePassthrough.assign(\n",
    "    context=query_transforming_retriever_chain,\n",
    ").assign(\n",
    "    answer=document_chain,\n",
    ")"
   ]
  },
  {
   "cell_type": "code",
   "execution_count": 54,
   "id": "26de4d95",
   "metadata": {},
   "outputs": [
    {
     "data": {
      "text/plain": [
       "{'messages': [HumanMessage(content='What can you tell me about consort?')],\n",
       " 'context': [Document(page_content='able results.\\n22We believe that the CONSO\\nRT Statement, and its extensions, is a key tool throughwhich adequate reporting can be achieved. More jour-\\nnals should endorse the CONSORT Statement, and,\\nmost importantly, they should do more to ensure\\nadherence. For example, journals could incorporate\\nthe checklist and flow diagram into their review pro-\\ncesses and indicate this requirement in their published\\ninstructions to authors.\\n28Without wide endorsement,\\nthe CONSORT Statement cannot fully yield the ben-\\nefits it was intended to produce.We are grateful to Sophie Moher and Sui Yan Wong for their help in\\nreviewing articles and assessing journal instructions to authors.Contributors: SH was involved in the design, implementation, and\\nanalysis of the study, and in writing, and commenting on, drafts on the\\nfinal manuscript. SD, L-MY, A-WC, and DGA were involved in the design,\\nimplementation, and analysis of the study, and commented on drafts on\\nthe final manuscript. SH is the guarantor of the study.\\nFunding: This study was carried out as part of a larger study funded by a\\ngrant from the UK National Institute for Health Research to support thework of the CONSORT Group. The funder had no role in the design,\\nanalysis, or interpretation of the study, or in writing of the manuscript.\\nCompeting interests: All authors have completed the Unified Competing\\nInterest form at www.icmje.org/coi_disclosure.pdf (available on request', metadata={'Author': 'Hopewell, S.; Dutton, S.; Yu, L. M.; Chan, A. W.; Altman, D. G.', 'Date Added': '2022-05-23 11:32:44', 'Publication Year': '2010', 'Title': 'The quality of reports of randomised trials in 2000 and 2006: comparative study of articles indexed in PubMed', 'page': 6, 'source': 'C:/Users/pouri/Zotero/storage/HFCBT8SX/Hopewell et al. - 2010 - The quality of reports of randomised trials in 200.pdf'}),\n",
       "  Document(page_content='able results.\\n22We believe that the CONSO\\nRT Statement, and its extensions, is a key tool throughwhich adequate reporting can be achieved. More jour-\\nnals should endorse the CONSORT Statement, and,\\nmost importantly, they should do more to ensure\\nadherence. For example, journals could incorporate\\nthe checklist and flow diagram into their review pro-\\ncesses and indicate this requirement in their published\\ninstructions to authors.\\n28Without wide endorsement,\\nthe CONSORT Statement cannot fully yield the ben-\\nefits it was intended to produce.We are grateful to Sophie Moher and Sui Yan Wong for their help in\\nreviewing articles and assessing journal instructions to authors.Contributors: SH was involved in the design, implementation, and\\nanalysis of the study, and in writing, and commenting on, drafts on the\\nfinal manuscript. SD, L-MY, A-WC, and DGA were involved in the design,\\nimplementation, and analysis of the study, and commented on drafts on\\nthe final manuscript. SH is the guarantor of the study.\\nFunding: This study was carried out as part of a larger study funded by a\\ngrant from the UK National Institute for Health Research to support thework of the CONSORT Group. The funder had no role in the design,\\nanalysis, or interpretation of the study, or in writing of the manuscript.\\nCompeting interests: All authors have completed the Unified Competing\\nInterest form at www.icmje.org/coi_disclosure.pdf (available on request', metadata={'Author': 'Hopewell, S.; Dutton, S.; Yu, L. M.; Chan, A. W.; Altman, D. G.', 'Date Added': 2022, 'Publication Year': 2010, 'Title': 'The quality of reports of randomised trials in 2000 and 2006: comparative study of articles indexed in PubMed', 'page': 6, 'source': 'C:/Users/pouri/Zotero/storage/HFCBT8SX/Hopewell et al. - 2010 - The quality of reports of randomised trials in 200.pdf'}),\n",
       "  Document(page_content='rently endorse the CONSORT Statement [7].\\n‘Endorsement ’of CONSORT by a journal is defined as\\nany of the following situations, which imply that the\\nCONSORT Statement is, at least, in principle incorpo-\\nrated into the editorial process of the journal: (a) journaleditorial statement endorsing the CONSORT Statement:\\neither the flow diagram, the checklist or both; (b) re-\\nquirement or recommendation in journal ’s ‘Instructions\\nto Authors ’to follow CONSORT when preparing their\\nmanuscript; or (c) requirement for authors to submit a\\nCONSORT checklist and/or flow diagram with theirmanuscript. At this time, information with regards to\\nthe regulation and enforcement of use and adherence to\\nCONSORT by editors is too sparse to incorporate in this\\nreview. Complete reporting was assessed by comparing\\nthe proportion of RCTs adhering to individual CON-SORT items, blinding subgroups or by total scores\\nacross CONSORT checklist items termed ‘Total sum\\nscore ’.\\nAlong with the publication of the 2001 version of\\nCONSORT, Moher and colleagues reported an evalu-\\nation of the CONSORT checklist [8]. The authorsreported that the completeness of reports of RCTs in\\nthree CONSORT endorsing journals was higher than\\none non-endorsing journal. Since then, additional eva-luations have been published which assess the influenceof CONSORT either directly or indirectly. In 2006 a sys-\\ntematic review identified eight evaluations that assessed', metadata={'Author': 'Turner, Lucy; Shamseer, Larissa; Altman, Douglas G.; Schulz, Kenneth F.; Moher, David', 'Date Added': '2022-05-23 11:38:50', 'Publication Year': '2012', 'Title': 'Does use of the CONSORT Statement impact the completeness of reporting of randomised controlled trials published in medical journals? A Cochrane review', 'page': 1, 'source': 'C:/Users/pouri/Zotero/storage/K7E58WVD/Turner et al. - 2012 - Does use of the CONSORT Statement impact the compl.pdf'}),\n",
       "  Document(page_content='rently endorse the CONSORT Statement [7].\\n‘Endorsement ’of CONSORT by a journal is defined as\\nany of the following situations, which imply that the\\nCONSORT Statement is, at least, in principle incorpo-\\nrated into the editorial process of the journal: (a) journaleditorial statement endorsing the CONSORT Statement:\\neither the flow diagram, the checklist or both; (b) re-\\nquirement or recommendation in journal ’s ‘Instructions\\nto Authors ’to follow CONSORT when preparing their\\nmanuscript; or (c) requirement for authors to submit a\\nCONSORT checklist and/or flow diagram with theirmanuscript. At this time, information with regards to\\nthe regulation and enforcement of use and adherence to\\nCONSORT by editors is too sparse to incorporate in this\\nreview. Complete reporting was assessed by comparing\\nthe proportion of RCTs adhering to individual CON-SORT items, blinding subgroups or by total scores\\nacross CONSORT checklist items termed ‘Total sum\\nscore ’.\\nAlong with the publication of the 2001 version of\\nCONSORT, Moher and colleagues reported an evalu-\\nation of the CONSORT checklist [8]. The authorsreported that the completeness of reports of RCTs in\\nthree CONSORT endorsing journals was higher than\\none non-endorsing journal. Since then, additional eva-luations have been published which assess the influenceof CONSORT either directly or indirectly. In 2006 a sys-\\ntematic review identified eight evaluations that assessed', metadata={'Author': 'Turner, Lucy; Shamseer, Larissa; Altman, Douglas G.; Schulz, Kenneth F.; Moher, David', 'Date Added': 2022, 'Publication Year': 2012, 'Title': 'Does use of the CONSORT Statement impact the completeness of reporting of randomised controlled trials published in medical journals? A Cochrane review', 'page': 1, 'source': 'C:/Users/pouri/Zotero/storage/K7E58WVD/Turner et al. - 2012 - Does use of the CONSORT Statement impact the compl.pdf'})],\n",
       " 'answer': 'CONSORT stands for Consolidated Standards of Reporting Trials. It is a key tool for achieving adequate reporting in research. Journals are encouraged to endorse the CONSORT Statement and ensure adherence by incorporating the checklist and flow diagram into their review processes and instructions to authors. Endorsement by journals can lead to better reporting of randomized controlled trials (RCTs).'}"
      ]
     },
     "execution_count": 54,
     "metadata": {},
     "output_type": "execute_result"
    }
   ],
   "source": [
    "conversational_retrieval_chain.invoke(\n",
    "    {\n",
    "        \"messages\": [\n",
    "            HumanMessage(content=\"What can you tell me about consort?\"),\n",
    "        ]\n",
    "    }\n",
    ")"
   ]
  },
  {
   "cell_type": "code",
   "execution_count": 55,
   "id": "5c4472f4",
   "metadata": {},
   "outputs": [
    {
     "data": {
      "text/plain": [
       "{'messages': [HumanMessage(content='What can you tell me about consort?'),\n",
       "  AIMessage(content='CONSORT stands for Consolidated Standards of Reporting Trials. It is a key tool for achieving adequate reporting in research. Journals are encouraged to endorse the CONSORT Statement and ensure adherence by incorporating the checklist and flow diagram into their review processes and instructions to authors. Endorsement by journals can lead to better reporting of randomized controlled trials (RCTs).'),\n",
       "  HumanMessage(content='Tell me more!')],\n",
       " 'context': [Document(page_content='CONSORT statement for quality of reports on randomized controlled trial\\nabstracts from four high-impact general medical journals. Trials 2012;\\n13:77.\\n5 Begg C, Cho M, Eastwood S, et al. Improving the quality of reporting of\\nrandomized controlled trials: the CONSORT statement. JAMA 1996;\\n276:637–639.6 Moher D, Hopewell S, Schulz KF, et al. CONSORT 2010 explanation and\\nelaboration: updated guidelines for reporting parallel group randomised\\ntrials. J Clin Epidemiol 2010; 63:e1–e37.\\n7 Schulz KF, Altman DG, Moher D. Group CONSORT. CONSORT 2010\\nstatement: updated guidelines for reporting parallel group randomised\\ntrials. BMJ 2010; 340:c332.\\n8 Hopewell S, Dutton S, Yu M, et al. The quality of reports of randomised trials\\nin 2000 and 2006: comparative study of articles indexed in pubmed. BMJ\\n2010; 340:c723.\\n9 Elia N, Trame `r MR. Adherence to guidelines for improved quality of data\\nreporting: where are we today? Eur J Anaesthesiol 2011; 28:478–480.\\n10 Charles P, Giraudeau B, Dechartres A, et al. Reporting of sample size\\ncalculation in randomised controlled trials: review. BMJ 2009; 338:b1732.\\n11 Turner L, Shamseer L, Altman DG, et al. Consolidated standards of\\nreporting trials (CONSORT) and the completeness of reporting of\\nrandomised controlled trials (RCTs) published in medical journals.\\nCochrane Database Syst Rev 2012; 11:MR000030.\\n12 Harhay MO, Wagner J, Ratcliffe SJ, et al. Outcomes and statistical power in\\nadult critical care randomized trials. Am J Respir Crit Care Med 2014;', metadata={'Author': 'Munter, N. H.; Stevanovic, A.; Rossaint, R.; Stoppe, C.; Sanders, R. D.; Coburn, M.', 'Date Added': '2022-05-23 11:39:04', 'Publication Year': '2015', 'Title': 'CONSORT item adherence in top ranked anaesthesiology journals in 2011: A retrospective analysis', 'page': 8, 'source': 'C:/Users/pouri/Zotero/storage/8BSF49V7/Munter et al. - 2015 - CONSORT item adherence in top ranked anaesthesiolo.pdf'}),\n",
       "  Document(page_content='CONSORT statement for quality of reports on randomized controlled trial\\nabstracts from four high-impact general medical journals. Trials 2012;\\n13:77.\\n5 Begg C, Cho M, Eastwood S, et al. Improving the quality of reporting of\\nrandomized controlled trials: the CONSORT statement. JAMA 1996;\\n276:637–639.6 Moher D, Hopewell S, Schulz KF, et al. CONSORT 2010 explanation and\\nelaboration: updated guidelines for reporting parallel group randomised\\ntrials. J Clin Epidemiol 2010; 63:e1–e37.\\n7 Schulz KF, Altman DG, Moher D. Group CONSORT. CONSORT 2010\\nstatement: updated guidelines for reporting parallel group randomised\\ntrials. BMJ 2010; 340:c332.\\n8 Hopewell S, Dutton S, Yu M, et al. The quality of reports of randomised trials\\nin 2000 and 2006: comparative study of articles indexed in pubmed. BMJ\\n2010; 340:c723.\\n9 Elia N, Trame `r MR. Adherence to guidelines for improved quality of data\\nreporting: where are we today? Eur J Anaesthesiol 2011; 28:478–480.\\n10 Charles P, Giraudeau B, Dechartres A, et al. Reporting of sample size\\ncalculation in randomised controlled trials: review. BMJ 2009; 338:b1732.\\n11 Turner L, Shamseer L, Altman DG, et al. Consolidated standards of\\nreporting trials (CONSORT) and the completeness of reporting of\\nrandomised controlled trials (RCTs) published in medical journals.\\nCochrane Database Syst Rev 2012; 11:MR000030.\\n12 Harhay MO, Wagner J, Ratcliffe SJ, et al. Outcomes and statistical power in\\nadult critical care randomized trials. Am J Respir Crit Care Med 2014;', metadata={'Author': 'Munter, N. H.; Stevanovic, A.; Rossaint, R.; Stoppe, C.; Sanders, R. D.; Coburn, M.', 'Date Added': 2022, 'Publication Year': 2015, 'Title': 'CONSORT item adherence in top ranked anaesthesiology journals in 2011: A retrospective analysis', 'page': 8, 'source': 'C:/Users/pouri/Zotero/storage/8BSF49V7/Munter et al. - 2015 - CONSORT item adherence in top ranked anaesthesiolo.pdf'}),\n",
       "  Document(page_content='time when massive amounts of data have to be pro-\\ncessed, it is an important guide in standardising thereporting of data and easing the comprehension and\\ncomparison of trials. The CONSORT statement is\\nintended to improve the reporting of a RCT, enabling\\nreaders to understand a trial’s design, conduct, analysis\\nand interpretation, and to assess the validity of its\\nresults. It emphasises that this can only be achieved\\nby complete transparency from authors.5–7The ﬁrst\\nCONSORT statement was published in 19965and\\nhas been revised twice to date.6,7The latest revision\\nwas published in 2010.6\\nEur J Anaesthesiol 2015; 32:117–125\\n/C3Nils H. Mu ¨nter and Ana Stevanovic contributed equally to the writing of this article.From the Department of Anaesthesiology, University Hospital Aachen, Aachen, Germany (NHM, AS, RR, CS, MC), and Department of Anaesthesia and Surgic al Outcomes\\nResearch Centre, University College London Hospital & Wellcome Department of Imaging Neuroscience, University College London, London, UK (RDS)\\nCorrespondence to Mark Coburn, MD, Department of Anaesthesiology, University Hospital Aachen, Pauwelsstr. 30, D-52074 Aachen, Germany\\nTel: +49 241 8088179; e-mail: mcoburn@ukaachen.de\\n0265-0215 /C2232015 Copyright European Society of Anaesthesiology DOI:10.1097/EJA.0000000000000176', metadata={'Author': 'Munter, N. H.; Stevanovic, A.; Rossaint, R.; Stoppe, C.; Sanders, R. D.; Coburn, M.', 'Date Added': '2022-05-23 11:39:04', 'Publication Year': '2015', 'Title': 'CONSORT item adherence in top ranked anaesthesiology journals in 2011: A retrospective analysis', 'page': 0, 'source': 'C:/Users/pouri/Zotero/storage/8BSF49V7/Munter et al. - 2015 - CONSORT item adherence in top ranked anaesthesiolo.pdf'}),\n",
       "  Document(page_content='time when massive amounts of data have to be pro-\\ncessed, it is an important guide in standardising thereporting of data and easing the comprehension and\\ncomparison of trials. The CONSORT statement is\\nintended to improve the reporting of a RCT, enabling\\nreaders to understand a trial’s design, conduct, analysis\\nand interpretation, and to assess the validity of its\\nresults. It emphasises that this can only be achieved\\nby complete transparency from authors.5–7The ﬁrst\\nCONSORT statement was published in 19965and\\nhas been revised twice to date.6,7The latest revision\\nwas published in 2010.6\\nEur J Anaesthesiol 2015; 32:117–125\\n/C3Nils H. Mu ¨nter and Ana Stevanovic contributed equally to the writing of this article.From the Department of Anaesthesiology, University Hospital Aachen, Aachen, Germany (NHM, AS, RR, CS, MC), and Department of Anaesthesia and Surgic al Outcomes\\nResearch Centre, University College London Hospital & Wellcome Department of Imaging Neuroscience, University College London, London, UK (RDS)\\nCorrespondence to Mark Coburn, MD, Department of Anaesthesiology, University Hospital Aachen, Pauwelsstr. 30, D-52074 Aachen, Germany\\nTel: +49 241 8088179; e-mail: mcoburn@ukaachen.de\\n0265-0215 /C2232015 Copyright European Society of Anaesthesiology DOI:10.1097/EJA.0000000000000176', metadata={'Author': 'Munter, N. H.; Stevanovic, A.; Rossaint, R.; Stoppe, C.; Sanders, R. D.; Coburn, M.', 'Date Added': 2022, 'Publication Year': 2015, 'Title': 'CONSORT item adherence in top ranked anaesthesiology journals in 2011: A retrospective analysis', 'page': 0, 'source': 'C:/Users/pouri/Zotero/storage/8BSF49V7/Munter et al. - 2015 - CONSORT item adherence in top ranked anaesthesiolo.pdf'})],\n",
       " 'answer': 'The CONSORT Statement aims to improve the transparency and quality of reporting in randomized controlled trials (RCTs). It provides a checklist and flow diagram to guide authors in reporting essential elements of their trial, such as design, conduct, analysis, and interpretation. By following CONSORT guidelines, authors can enhance the understanding and assessment of the validity of their trial results. CONSORT has been revised multiple times, with the latest revision in 2010, to keep up with evolving research practices and standards.'}"
      ]
     },
     "execution_count": 55,
     "metadata": {},
     "output_type": "execute_result"
    }
   ],
   "source": [
    "conversational_retrieval_chain.invoke(\n",
    "    {\n",
    "        \"messages\": [\n",
    "            HumanMessage(content=\"What can you tell me about consort?\"),\n",
    "            AIMessage(\n",
    "                content=\"CONSORT stands for Consolidated Standards of Reporting Trials. It is a key tool for achieving adequate reporting in research. Journals are encouraged to endorse the CONSORT Statement and ensure adherence by incorporating the checklist and flow diagram into their review processes and instructions to authors. Endorsement by journals can lead to better reporting of randomized controlled trials (RCTs).\"\n",
    "            ),\n",
    "            HumanMessage(content=\"Tell me more!\"),\n",
    "        ]\n",
    "    }\n",
    ")"
   ]
  },
  {
   "cell_type": "code",
   "execution_count": null,
   "id": "dc389138",
   "metadata": {},
   "outputs": [],
   "source": []
  }
 ],
 "metadata": {
  "kernelspec": {
   "display_name": "langchain_env",
   "language": "python",
   "name": "langchain_env"
  },
  "language_info": {
   "codemirror_mode": {
    "name": "ipython",
    "version": 3
   },
   "file_extension": ".py",
   "mimetype": "text/x-python",
   "name": "python",
   "nbconvert_exporter": "python",
   "pygments_lexer": "ipython3",
   "version": "3.12.2"
  }
 },
 "nbformat": 4,
 "nbformat_minor": 5
}
